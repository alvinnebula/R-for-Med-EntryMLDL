{
 "cells": [
  {
   "cell_type": "markdown",
   "id": "6a0276cd",
   "metadata": {},
   "source": [
    "# Assignment 10 - Person 1"
   ]
  },
  {
   "cell_type": "markdown",
   "id": "40ca1026",
   "metadata": {},
   "source": [
    "## Part 1 - <font color = \"red\"><b>FINISH BY PERSON 1</font>\n",
    "### Question 1 - Emirp (20 pts)"
   ]
  },
  {
   "cell_type": "markdown",
   "id": "1b990a6e",
   "metadata": {},
   "source": [
    "An emirp (prime spelled backward) is a **nonpalindromic prime number whose reversal is also a prime**. For example, both 17 and 71 are prime numbers, so 17 and 71 are emirps.\n",
    "\n",
    "**1. `def reverse(number)` (5 pts)** <br> \n",
    "This function reads a number as an argument, and returns the reversed number of the input. You may assume the argument number will always be a positive integer, and you should return an integer as well. <br>\n",
    "**Example:** <br>\n",
    "Input: 13 <br>\n",
    "Output: 31 <br>"
   ]
  },
  {
   "cell_type": "code",
   "execution_count": 1,
   "id": "1ed4ab0c",
   "metadata": {},
   "outputs": [
    {
     "data": {
      "text/plain": [
       "31"
      ]
     },
     "execution_count": 1,
     "metadata": {},
     "output_type": "execute_result"
    }
   ],
   "source": [
    "def reverse(number):\n",
    "    return int(str(number)[::-1])\n",
    "\n",
    "reverse(13)"
   ]
  },
  {
   "cell_type": "markdown",
   "id": "d39fcb14",
   "metadata": {},
   "source": [
    "**2. `def isPrime(number)` (5 pts)** <br>\n",
    "This function reads a number as an argument, and returns a boolean indicating whether or not this number is a prime number. You may assume the argument number will always be a positive integer. <br>\n",
    "**Example:** <br>\n",
    "Input: 13 <br>\n",
    "Output: True <br>\n",
    "Input: 14 <br>\n",
    "Output: False <br>"
   ]
  },
  {
   "cell_type": "code",
   "execution_count": 2,
   "id": "8bb70a96",
   "metadata": {},
   "outputs": [
    {
     "name": "stdout",
     "output_type": "stream",
     "text": [
      "True\n",
      "False\n"
     ]
    }
   ],
   "source": [
    "def isPrime(number):\n",
    "    for i in range(2,number):\n",
    "        if number % i == 0:\n",
    "            return False\n",
    "    else:\n",
    "        return True\n",
    "        \n",
    "print(isPrime(13))\n",
    "print(isPrime(14))"
   ]
  },
  {
   "cell_type": "markdown",
   "id": "23574d0e",
   "metadata": {},
   "source": [
    "**3. `def isEmirp(number)` (10 points)**<br> \n",
    "This function reads a number as an argument, and returns a boolean indicating whether or not this number is a EMIRP number. You may assume the argument number will always be a positive integer. To implement this function, please call the functions you defined in previous questions. <br>\n",
    "**Example:** <br>\n",
    "Input: 17 <br>\n",
    "Output: True <br>"
   ]
  },
  {
   "cell_type": "code",
   "execution_count": 3,
   "id": "018eb736",
   "metadata": {},
   "outputs": [
    {
     "name": "stdout",
     "output_type": "stream",
     "text": [
      "True\n"
     ]
    }
   ],
   "source": [
    "def isEmirp(number):\n",
    "        if not isPrime(number):\n",
    "            return False\n",
    "        else:\n",
    "            R = reverse(number)\n",
    "            if isPrime(R) and R != number:\n",
    "                return True\n",
    "            else:\n",
    "                return False\n",
    "            \n",
    "\n",
    "print(isEmirp(17))\n"
   ]
  },
  {
   "cell_type": "markdown",
   "id": "74f7ce4b",
   "metadata": {},
   "source": [
    "### Question 2 (30 pts)\n",
    "Given a `sentence` that consists of some words separated by a single space, and a `searchWord`, check if `searchWord` is a prefix of any word in sentence.\n",
    "\n",
    "Return the index of the word in `sentence` where `searchWord` is a prefix of this word. If `searchWord` is a prefix of more than one word, return the index of the first word (minimum index). If there is no such word return -1.\n",
    "\n",
    "**Example:** <br>\n",
    "Input: sentence = \"this problem is an easy problem\", searchWord = \"pro\"<br>\n",
    "Output: 1"
   ]
  },
  {
   "cell_type": "code",
   "execution_count": 4,
   "id": "bddcb3ef",
   "metadata": {},
   "outputs": [
    {
     "data": {
      "text/plain": [
       "1"
      ]
     },
     "execution_count": 4,
     "metadata": {},
     "output_type": "execute_result"
    }
   ],
   "source": [
    "def isPrefixOfWord(sentence, searchWord):\n",
    "    word_list = sentence.lower().split(' ')\n",
    "    for i in range(len(word_list)):\n",
    "        if word_list[i].startswith(searchWord.lower()):\n",
    "            return i\n",
    "    return -1\n",
    "\n",
    "isPrefixOfWord(sentence = \"This problem is an easy problem\", searchWord = \"pro\")"
   ]
  },
  {
   "cell_type": "markdown",
   "id": "5fe0184a",
   "metadata": {},
   "source": [
    "### Question 3 (20 pts)\n",
    "You are given an 2D list `account` where `accounts[i]` contains different amounts of money that the i-th customer saved in different banks. Return the wealth of the richest customer.\n",
    "\n",
    "A customer's wealth is the amount of money they have in all their bank accounts. The richest customer is the customer that has the maximum wealth.\n",
    "\n",
    "**Example:**<br>\n",
    "Input: accounts = [[1,2],[3,2,1]] <br>\n",
    "Output: 6"
   ]
  },
  {
   "cell_type": "code",
   "execution_count": 5,
   "id": "0020359d",
   "metadata": {},
   "outputs": [
    {
     "data": {
      "text/plain": [
       "6"
      ]
     },
     "execution_count": 5,
     "metadata": {},
     "output_type": "execute_result"
    }
   ],
   "source": [
    "def maximumWealth(accounts):\n",
    "    maxwealth = 0\n",
    "    for account in accounts:\n",
    "        maxwealth = max(maxwealth, sum(account))\n",
    "    return maxwealth\n",
    "\n",
    "maximumWealth([[1,2],[3,2,1]])"
   ]
  },
  {
   "cell_type": "markdown",
   "id": "c1165d3c",
   "metadata": {},
   "source": [
    "## Part 2 - <font color = \"blue\"><b>FINISH BY PERSON 2</font><br>\n",
    "\n",
    "**1. `def emirpPrint(n)` (10 pts)** <br>\n",
    "By calling the functions defined in Part 1 Question 1, write a function that prints the first `n` emirp numbers. This function reads in an integer indicating how many numbers you should print. **Display 10 numbers per line. Seperate each number by a space.** If n cannot be divided by 10, the last line can display less than 10 numbers. <br>\n",
    "Note that in this function you do not need to return anything. (You may but you do not need to). All you need is to print n numbers in the correct format. <br>\n",
    "**Example:** <br>\n",
    "Input:30 <br>\n",
    "Output:<br>\n",
    "13 17 31 37 71 73 79 97 107 113<br>\n",
    "149 157 167 179 199 311 337 347 359 389<br>\n",
    "701 709 733 739 743 751 761 769 907 937<br>"
   ]
  },
  {
   "cell_type": "code",
   "execution_count": 6,
   "id": "e7b032ea",
   "metadata": {},
   "outputs": [
    {
     "name": "stdout",
     "output_type": "stream",
     "text": [
      "13 17 31 37 71 73 79 97 107 113 \n",
      "149 157 167 179 199 311 337 347 359 389 \n",
      "701 709 733 739 743 751 761 769 907 937 \n"
     ]
    }
   ],
   "source": [
    "def emirpPrint(n):\n",
    "    counts = 0\n",
    "    i = 1\n",
    "    while counts < n:\n",
    "        if isEmirp(i):\n",
    "            print(i, end =\" \")\n",
    "            counts += 1\n",
    "            i += 1\n",
    "            if counts % 10 == 0:\n",
    "                print(end = \"\\n\")\n",
    "        else:\n",
    "            i += 1\n",
    "            continue\n",
    "            \n",
    "emirpPrint(30)"
   ]
  },
  {
   "cell_type": "markdown",
   "id": "01741a77",
   "metadata": {},
   "source": [
    "**2. Write *at least* 3 test cases for the function in Part 1 Question 2 that your partner implemented. For each test case, provide an explanation on why you are testing on this. Your test cases should be in the following format in the example. You will be graded on the comprehensivness of the test cases you provided. That is, you need to consider about some invalid inputs or some edge cases that will potentially make the function generate errors. (10 pts)**<br>\n",
    "For example, my partner defined a function called `add()` that calculates the sum of two numbers. I will provide following test cases:\n",
    "\n",
    "`add(1, 2) == 3 # test for positive numbers` <br>\n",
    "`add(-1, -2) == -3 # test for negative numbers`<br>\n",
    "`add(\"asd\", \"agg\") == None # test for invalid inputs`<br>\n",
    "`add(None, None) == None # test for empty inputs`<br>\n",
    "\n",
    "If the function actually works as expected, each of the statements above should return True. "
   ]
  },
  {
   "cell_type": "code",
   "execution_count": 7,
   "id": "5860f5a7",
   "metadata": {},
   "outputs": [
    {
     "name": "stdout",
     "output_type": "stream",
     "text": [
      "True\n",
      "True\n",
      "True\n",
      "True\n",
      "True\n"
     ]
    }
   ],
   "source": [
    "#My partner defined a function called `isPrefixOfWord` that returns the index of the word in sentence where searchWord is a prefix of this word. \n",
    "#I will provide following test cases:\n",
    "print(isPrefixOfWord(sentence = \"Boston Celtics is currently not the most popular team in Boston\", searchWord = \"is\") == 2)\n",
    "#check if the function works for a prefix which represents a word\n",
    "print(isPrefixOfWord(sentence = \"Boston Celtics is currently not the most popular team in Boston\", searchWord = \"Cel\") == 1)\n",
    "# check if the function is case-sensitive or not\n",
    "print(isPrefixOfWord(sentence = \"Boston Celtics is currently not the most popular team in Boston\", searchWord = \"Bos\") == 0)\n",
    "# check if the function works for a prefix of more than one word in the sentence\n",
    "print(isPrefixOfWord(sentence = \"Boston Celtics is currently not the most popular team in Boston\", searchWord = \"ins\")== -1) \n",
    "# check if the function works for the searchWord which is longer than the word in the sentence\n",
    "print(isPrefixOfWord(sentence = \"Boston Celtics is currently not the most popular team in Boston\", searchWord = \"Lakers\")== -1) \n",
    "# check if the function works for the searchWord which is not in the sentence\n",
    "\n"
   ]
  },
  {
   "cell_type": "markdown",
   "id": "b59e2deb",
   "metadata": {},
   "source": [
    "**3. Implement a user interface for Part 1 Question 3 that has the following functions:**\n",
    "<font color = 'green'>\n",
    "1. Ask the user to input amounts of different bank for the first customer\n",
    "2. Ask if the user have a next customer to input<br>\n",
    "    a) if so, go back to step 1<br>\n",
    "    b) otherwise, tell the user the wealth that the richest customer has. \n",
    "3. If any of the inputs is not valid, tell the user how the input is invalid, and ask the user to re-input. \n",
    "</font>\n",
    "*Hint: a while loop might be helpful* <br>\n",
    "**You are free to add more rules to ask your user to regulate their inputs. (i.e. use a comma as a seperator between multiple amounts, etc.) You might also need to parse the users' input into correct format so that you can use it as an argument for the function implemented in Question 3. (10 pts)**"
   ]
  },
  {
   "cell_type": "code",
   "execution_count": 8,
   "id": "67468c15",
   "metadata": {},
   "outputs": [
    {
     "name": "stdout",
     "output_type": "stream",
     "text": [
      "Please input amounts of different bank of first customer: \n",
      " Tips: using commas seperate each amount of money and putting them in a list. \n",
      "[1,2,3]\n",
      "Is there any other customer? \n",
      " If yes, input Y; if no, input N. \n",
      "Y\n",
      "Please input amounts of different bank of the next customer: \n",
      " Tips: using commas seperate each amount of money and putting them in a list. \n",
      "[1,2,3,4]\n",
      "Is there any other customer? \n",
      " If yes, input Y; if no, input N. \n",
      "Y\n",
      "Please input amounts of different bank of the next customer: \n",
      " Tips: using commas seperate each amount of money and putting them in a list. \n",
      "[1,2,3,4,5]\n",
      "Is there any other customer? \n",
      " If yes, input Y; if no, input N. \n",
      "N\n",
      "The wealth the richest customer has is 15.\n"
     ]
    }
   ],
   "source": [
    "a = input(\"Please input amounts of different bank of first customer: \\n Tips: using commas seperate each amount of money and putting them in a list. \\n\")   \n",
    "L =[]\n",
    "try:\n",
    "    while a:\n",
    "        L.append(eval(a))\n",
    "        b = input(\"Is there any other customer? \\n If yes, input Y; if no, input N. \\n\")\n",
    "        if b == \"Y\":\n",
    "            c = input(\"Please input amounts of different bank of the next customer: \\n Tips: using commas seperate each amount of money and putting them in a list. \\n\")\n",
    "            L.append(eval(c))\n",
    "        elif b == \"N\": \n",
    "            print(\"The wealth the richest customer has is \" + str(maximumWealth(L)) + \".\")\n",
    "            break\n",
    "        else:\n",
    "            print(\"Invalid input \\n Please input Y or N only. \\n\")\n",
    "            \n",
    "except:\n",
    "    #a = input(\"Please only input numeric contents in the list and only use commas to seperate them. \\n\")\n",
    "    if (b == \"Y\" or b == \"N\") == False:\n",
    "        print(\"Invalid input. Please re-input Y or N only.\")\n",
    "    else:\n",
    "        print(\"Invalid input. Please re-input valid amounts of money for each customers.\")   "
   ]
  },
  {
   "cell_type": "code",
   "execution_count": null,
   "id": "08a4c968",
   "metadata": {},
   "outputs": [],
   "source": []
  }
 ],
 "metadata": {
  "kernelspec": {
   "display_name": "Python 3",
   "language": "python",
   "name": "python3"
  },
  "language_info": {
   "codemirror_mode": {
    "name": "ipython",
    "version": 3
   },
   "file_extension": ".py",
   "mimetype": "text/x-python",
   "name": "python",
   "nbconvert_exporter": "python",
   "pygments_lexer": "ipython3",
   "version": "3.8.8"
  }
 },
 "nbformat": 4,
 "nbformat_minor": 5
}
