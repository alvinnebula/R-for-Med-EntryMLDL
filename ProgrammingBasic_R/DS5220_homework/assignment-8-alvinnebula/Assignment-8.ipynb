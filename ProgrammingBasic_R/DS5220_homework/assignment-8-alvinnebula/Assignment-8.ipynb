{
 "cells": [
  {
   "cell_type": "markdown",
   "id": "64e62868",
   "metadata": {},
   "source": [
    "# Assignment 8 - Control Flow\n"
   ]
  },
  {
   "cell_type": "markdown",
   "id": "67df0a30",
   "metadata": {},
   "source": [
    "## Part 1 (100 pts)"
   ]
  },
  {
   "cell_type": "markdown",
   "id": "65c034c1",
   "metadata": {},
   "source": [
    "### 1. Create two empty list called M and N. In a for loop, fill M with all numbers less than 100 that are divisible by 5 but not by 3. Fill N with ALL OTHER numbers that are divisible by 7 but not by 2. (Note : the list should not include 100, N should not include any numbers in M) (10 pts)"
   ]
  },
  {
   "cell_type": "code",
   "execution_count": 10,
   "id": "7be096d4",
   "metadata": {},
   "outputs": [
    {
     "name": "stdout",
     "output_type": "stream",
     "text": [
      "[5, 10, 20, 25, 35, 40, 50, 55, 65, 70, 80, 85, 95] [7, 21, 49, 63, 77, 91]\n"
     ]
    }
   ],
   "source": [
    "M = []\n",
    "N = []\n",
    "for i in range(100):\n",
    "    if i%5 == 0 and i%3 != 0:\n",
    "        M.append(i)\n",
    "    elif i%7 == 0 and i%2 != 0:\n",
    "        N.append(i)\n",
    "    else:\n",
    "        continue\n",
    "print(M,N)       "
   ]
  },
  {
   "cell_type": "markdown",
   "id": "3476b3ed",
   "metadata": {},
   "source": [
    "### 2. Do the same thing, this time using a while loop. (Note : make sure you re-initialize M and N to be empty!) (10 pts)\n",
    "\n"
   ]
  },
  {
   "cell_type": "code",
   "execution_count": 11,
   "id": "240465e9",
   "metadata": {},
   "outputs": [
    {
     "name": "stdout",
     "output_type": "stream",
     "text": [
      "[5, 10, 20, 25, 35, 40, 50, 55, 65, 70, 80, 85, 95] [7, 21, 49, 63, 77, 91]\n"
     ]
    }
   ],
   "source": [
    "M = []\n",
    "N = []\n",
    "i = 0\n",
    "while i < 100:\n",
    "    if i%5 == 0 and i%3 != 0:\n",
    "        M.append(i)\n",
    "    elif i%7 == 0 and i%2 != 0:\n",
    "        N.append(i) \n",
    "    i = i+1\n",
    "print(M,N)\n",
    "    "
   ]
  },
  {
   "cell_type": "markdown",
   "id": "7dfbe0e0",
   "metadata": {},
   "source": [
    "### 3. Do the same thing, this time using list comprehension. (Note : this time you shouldn't need to initialize M and N!) (10 pts)"
   ]
  },
  {
   "cell_type": "code",
   "execution_count": 12,
   "id": "f46e0852",
   "metadata": {},
   "outputs": [
    {
     "name": "stdout",
     "output_type": "stream",
     "text": [
      "[5, 10, 20, 25, 35, 40, 50, 55, 65, 70, 80, 85, 95] [7, 21, 49, 63, 77, 91]\n"
     ]
    }
   ],
   "source": [
    "M = [x for x in range(100) if x%5==0 and x%3!=0]\n",
    "N = [x for x in range(100) if x%7==0 and x%2!=0 and x not in M]\n",
    "print(M,N)"
   ]
  },
  {
   "cell_type": "markdown",
   "id": "d72781aa",
   "metadata": {},
   "source": [
    "### 4. Write a python program which prints all the divisors of  a number. (10 pts)\n",
    "***Hints: the divisors of a number is in the range of (2, num). For every number in this range, check whether the number is the divisor or not.***"
   ]
  },
  {
   "cell_type": "code",
   "execution_count": 24,
   "id": "c41a8a4e",
   "metadata": {},
   "outputs": [
    {
     "name": "stdout",
     "output_type": "stream",
     "text": [
      "Enter a number: \n",
      "960\n",
      "[2, 3, 4, 5, 6, 8, 10, 12, 15, 16, 20, 24, 30, 32, 40, 48, 60, 64, 80, 96, 120, 160, 192, 240, 320, 480]\n"
     ]
    }
   ],
   "source": [
    "#number_to_be_divided=960\n",
    "L = []\n",
    "number_to_be_divided = int(input(\"Enter a number: \\n\"))\n",
    "for i in range(2,number_to_be_divided):\n",
    "    if number_to_be_divided%i == 0:\n",
    "        L.append(i)\n",
    "print(L)"
   ]
  },
  {
   "cell_type": "markdown",
   "id": "10d1958b",
   "metadata": {},
   "source": [
    "### 5.Given a list called A. Write a python program to find the maximum and minimum number in this list. (20 pts)"
   ]
  },
  {
   "cell_type": "code",
   "execution_count": 15,
   "id": "0448178a",
   "metadata": {},
   "outputs": [
    {
     "name": "stdout",
     "output_type": "stream",
     "text": [
      "maximum = 920\n",
      "minimun = 1\n"
     ]
    }
   ],
   "source": [
    "A = [2,59,10,294,3,520,3,1,55,920]\n",
    "MAX = A[0]\n",
    "MIN = A[0]\n",
    "for i in range(len(A)):\n",
    "    if MAX <= A[i]:\n",
    "        MAX = A[i]\n",
    "    else:\n",
    "        MAX = MAX\n",
    "        \n",
    "for i in range(len(A)):\n",
    "    if MIN >= A[i]:\n",
    "        MIN = A[i]\n",
    "    else:\n",
    "        MIN = MIN\n",
    "print(\"maximum = \"+str(MAX))\n",
    "print(\"minimun = \"+str(MIN))"
   ]
  },
  {
   "cell_type": "markdown",
   "id": "14e804c5",
   "metadata": {},
   "source": [
    "### 6. In mathematics, the factorial of a positive integer n, denoted by n! Write a python program to calculate factorial of a number. (20 pts)\n",
    "***Hints: Use the for loop to achieve the formula for n!***"
   ]
  },
  {
   "cell_type": "code",
   "execution_count": 29,
   "id": "0c56563e",
   "metadata": {},
   "outputs": [
    {
     "name": "stdout",
     "output_type": "stream",
     "text": [
      "Enter the number to get its factorial \n",
      "12\n",
      "479001600\n"
     ]
    }
   ],
   "source": [
    "#num = 12\n",
    "n = int(input(\"Enter the number to get its factorial \\n\"))\n",
    "for i in range(1,n):  #starting from 0\n",
    "    n = n*i\n",
    "print(n)"
   ]
  },
  {
   "cell_type": "markdown",
   "id": "9756ef3b",
   "metadata": {},
   "source": [
    "### 7. The Fibonacci Sequence is the series of numbers :0, 1, 1, 2, 3, 5, 8, 13, 21, .... Write a python program to get the Fibonacci series between 0 to 50. (20 pts)\n",
    "***Hints: Initial x = 0, y = 1. Use a while loop to calculate the fibonacci formula, update x, y and print your result.***"
   ]
  },
  {
   "cell_type": "code",
   "execution_count": 32,
   "id": "eebe599b",
   "metadata": {},
   "outputs": [
    {
     "name": "stdout",
     "output_type": "stream",
     "text": [
      "[0, 1, 1, 2, 3, 5, 8, 13, 21, 34]\n"
     ]
    }
   ],
   "source": [
    "x = 0\n",
    "y = 1\n",
    "z = 0\n",
    "T =[]\n",
    "while x <= 50:\n",
    "    T.append(x)\n",
    "    z=x+y\n",
    "    x=y\n",
    "    y=z\n",
    "print(T) "
   ]
  },
  {
   "cell_type": "markdown",
   "id": "098db5b1",
   "metadata": {},
   "source": [
    "## BONUS (20 pts)"
   ]
  },
  {
   "cell_type": "markdown",
   "id": "1825db53",
   "metadata": {},
   "source": [
    "### 1. Given a list S of numbers. Write a python program to find the most occurrence number and its number of occurrences. (10 pts)"
   ]
  },
  {
   "cell_type": "code",
   "execution_count": null,
   "id": "5d8d9677",
   "metadata": {},
   "outputs": [],
   "source": [
    "S = [1,1,4,6,2,7,4,9,3,4,8,4,6,22,26,4,7]\n",
    "most_occur = 0\n",
    "for i in S:\n",
    "    occur = S.count(i)\n",
    "    if occur >= most_occur:\n",
    "        most_occur = occur\n",
    "        n = i\n",
    "print(\"The most occurrence number is \"+ str(n) + \" whose number of occurrences is \" + str(most_occur) + \".\")"
   ]
  },
  {
   "cell_type": "markdown",
   "id": "011496e3",
   "metadata": {},
   "source": [
    "### 2. Given a positive integer. Write a python program to print all prime numbers less than this number. (10 pts)"
   ]
  },
  {
   "cell_type": "code",
   "execution_count": 9,
   "id": "fb3eec27",
   "metadata": {},
   "outputs": [
    {
     "name": "stdout",
     "output_type": "stream",
     "text": [
      "Enter a positive integer to get all prime numbers less than it: \n",
      "78\n",
      "The prime numbers less than 78 is [2, 3, 5, 7, 11, 13, 17, 19, 23, 29, 31, 37, 41, 43, 47, 53, 59, 61, 67, 71, 73].\n"
     ]
    }
   ],
   "source": [
    "#n = 78\n",
    "n = int(input(\"Enter a positive integer to get all prime numbers less than it: \\n\"))\n",
    "L = list(range(2,n))\n",
    "for i in range(2,n):\n",
    "    for j in range(2,i):\n",
    "        if i%j==0:\n",
    "            L.remove(i)\n",
    "            break\n",
    "print(\"The prime numbers less than \" + str(n) + \" is \" + str(L) + \".\" )   "
   ]
  },
  {
   "cell_type": "code",
   "execution_count": null,
   "id": "62493e69",
   "metadata": {},
   "outputs": [],
   "source": []
  },
  {
   "cell_type": "code",
   "execution_count": null,
   "id": "bb3b0771",
   "metadata": {},
   "outputs": [],
   "source": []
  }
 ],
 "metadata": {
  "kernelspec": {
   "display_name": "Python 3",
   "language": "python",
   "name": "python3"
  },
  "language_info": {
   "codemirror_mode": {
    "name": "ipython",
    "version": 3
   },
   "file_extension": ".py",
   "mimetype": "text/x-python",
   "name": "python",
   "nbconvert_exporter": "python",
   "pygments_lexer": "ipython3",
   "version": "3.8.8"
  }
 },
 "nbformat": 4,
 "nbformat_minor": 5
}
