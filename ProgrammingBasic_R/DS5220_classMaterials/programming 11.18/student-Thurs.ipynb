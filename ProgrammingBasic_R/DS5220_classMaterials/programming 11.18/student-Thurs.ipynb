{
 "cells": [
  {
   "cell_type": "markdown",
   "metadata": {},
   "source": [
    "# String Manipulation\n",
    "## String manipulation is critical for data science project"
   ]
  },
  {
   "cell_type": "markdown",
   "metadata": {},
   "source": [
    "### Baisc string definitions, one, two, three quotes"
   ]
  },
  {
   "cell_type": "code",
   "execution_count": 2,
   "metadata": {},
   "outputs": [
    {
     "data": {
      "text/plain": [
       "True"
      ]
     },
     "execution_count": 2,
     "metadata": {},
     "output_type": "execute_result"
    }
   ],
   "source": [
    "# Doesn't really matter if you use one or two quotes\n",
    "x = 'a string'\n",
    "y = \"a string\"\n",
    "x == y"
   ]
  },
  {
   "cell_type": "code",
   "execution_count": 1,
   "metadata": {},
   "outputs": [
    {
     "name": "stdout",
     "output_type": "stream",
     "text": [
      "\n",
      "one\n",
      "two\n",
      "three\n",
      "\n"
     ]
    }
   ],
   "source": [
    "# triple quotes can define multi-line strings\n",
    "multiline = \"\"\"\n",
    "one\n",
    "two\n",
    "three\n",
    "\"\"\"\n",
    "print(multiline)"
   ]
  },
  {
   "cell_type": "markdown",
   "metadata": {},
   "source": [
    "## Simple String Manipulation in Python"
   ]
  },
  {
   "cell_type": "markdown",
   "metadata": {},
   "source": [
    "### Formatting strings: Adjusting case\n",
    "\n",
    "- ``upper()``\n",
    "- ``lower()``\n",
    "- ``capitalize()``\n",
    "- ``title()``\n",
    "- ``swapcase()`` "
   ]
  },
  {
   "cell_type": "code",
   "execution_count": 4,
   "metadata": {
    "scrolled": true
   },
   "outputs": [
    {
     "name": "stdout",
     "output_type": "stream",
     "text": [
      "Initial string:  JoHn JESSe Nino YiliN AmanDa\n",
      "upper():  JOHN JESSE NINO YILIN AMANDA\n",
      "lower():  john jesse nino yilin amanda\n",
      "title():  John Jesse Nino Yilin Amanda\n",
      "capitalize():  John jesse nino yilin amanda\n",
      "swapcase():  jOhN jessE nINO yILIn aMANdA\n"
     ]
    }
   ],
   "source": [
    "name = \"JoHn JESSe Nino YiliN AmanDa\"\n",
    "print(\"Initial string: \", name)\n",
    "print(\"upper(): \", name.upper())\n",
    "print(\"lower(): \",name.lower())\n",
    "print(\"title(): \",name.title())\n",
    "print(\"capitalize(): \",name.capitalize())\n",
    "print(\"swapcase(): \",name.swapcase())"
   ]
  },
  {
   "cell_type": "markdown",
   "metadata": {},
   "source": [
    "### Formatting strings: adding and removing spaces\n",
    "- ``strip()`` method"
   ]
  },
  {
   "cell_type": "code",
   "execution_count": null,
   "metadata": {},
   "outputs": [],
   "source": [
    "# Removing blanks on both sides\n",
    "name = \"       JoHn JESSe Nino YiliN AmanDa        \"\n",
    "print(name)\n",
    "print(name.strip())\n",
    "#name.rstrip()\n",
    "#name.lstrip()"
   ]
  },
  {
   "cell_type": "code",
   "execution_count": 5,
   "metadata": {},
   "outputs": [
    {
     "name": "stdout",
     "output_type": "stream",
     "text": [
      "5406\n"
     ]
    }
   ],
   "source": [
    "# Removing certain characters on both sides\n",
    "name = \"00005406000\"\n",
    "print(name.strip(\"0\"))"
   ]
  },
  {
   "cell_type": "code",
   "execution_count": null,
   "metadata": {},
   "outputs": [],
   "source": [
    "# Adding blanks to position the string properly\n",
    "line = \"John\"\n",
    "print(line.center(30))\n",
    "print(line.ljust(30))\n",
    "print(line.rjust(30))"
   ]
  },
  {
   "cell_type": "code",
   "execution_count": null,
   "metadata": {},
   "outputs": [],
   "source": [
    "# Formating to weird shape\n",
    "for i in range(4,30):\n",
    "    print(\"Data\".rjust(i)+\"Data\".rjust(62-2*i))"
   ]
  },
  {
   "cell_type": "markdown",
   "metadata": {},
   "source": [
    "### Finding and replacing substrings\n",
    "- ``find()``\n",
    "- ``index()``\n",
    "- ``replace()``"
   ]
  },
  {
   "cell_type": "code",
   "execution_count": 8,
   "metadata": {},
   "outputs": [
    {
     "name": "stdout",
     "output_type": "stream",
     "text": [
      "6\n",
      "-1\n"
     ]
    }
   ],
   "source": [
    "name = \"JoHn  JESSe Nino YiliN        AmanDa        \"\n",
    "print(name.find(\"JESSe\"))\n",
    "print(name.find(\"xyz\"))"
   ]
  },
  {
   "cell_type": "code",
   "execution_count": null,
   "metadata": {},
   "outputs": [],
   "source": [
    "name = \"JoHn  JESSe Nino YiliN        AmanDa        \"\n",
    "print(name)\n",
    "print(name.replace(\"JESSe\", \"Steven\"))"
   ]
  },
  {
   "cell_type": "code",
   "execution_count": 9,
   "metadata": {},
   "outputs": [
    {
     "data": {
      "text/plain": [
       "'305'"
      ]
     },
     "execution_count": 9,
     "metadata": {},
     "output_type": "execute_result"
    }
   ],
   "source": [
    "num = \"3.5\"\n",
    "print(num.replace(\".\",\"0\"))"
   ]
  },
  {
   "cell_type": "markdown",
   "metadata": {},
   "source": [
    "### Splitting and partitioning strings\n",
    "\n",
    "- ``partition()`` \n",
    "- ``split()`` "
   ]
  },
  {
   "cell_type": "code",
   "execution_count": 10,
   "metadata": {},
   "outputs": [
    {
     "data": {
      "text/plain": [
       "('JoHn JESSe ', 'Nino', ' YiliN AmanDa')"
      ]
     },
     "execution_count": 10,
     "metadata": {},
     "output_type": "execute_result"
    }
   ],
   "source": [
    "name = \"JoHn JESSe Nino YiliN AmanDa\"\n",
    "name.partition(\"Nino\")"
   ]
  },
  {
   "cell_type": "code",
   "execution_count": 11,
   "metadata": {},
   "outputs": [
    {
     "name": "stdout",
     "output_type": "stream",
     "text": [
      "['JoHn', 'JESSe', 'Nino', 'YiliN', 'AmanDa']\n"
     ]
    }
   ],
   "source": [
    "# by default, split() search for any white space and separate the element.\n",
    "name = \"JoHn  JESSe Nino YiliN        AmanDa        \"\n",
    "name_list = name.split()\n",
    "print(name_list)"
   ]
  },
  {
   "cell_type": "code",
   "execution_count": 18,
   "metadata": {},
   "outputs": [
    {
     "name": "stdout",
     "output_type": "stream",
     "text": [
      "John chemistry\n",
      "Jesse Data\n",
      "Nino Data\n",
      "\n"
     ]
    },
    {
     "data": {
      "text/plain": [
       "['John', 'chemistry', 'Jesse', 'Data', 'Nino', 'Data']"
      ]
     },
     "execution_count": 18,
     "metadata": {},
     "output_type": "execute_result"
    }
   ],
   "source": [
    "name = \"\"\"John chemistry\n",
    "Jesse Data\n",
    "Nino Data\n",
    "\"\"\"\n",
    "print(name)\n",
    "name.split()\n",
    "#name.splitlines()"
   ]
  },
  {
   "cell_type": "markdown",
   "metadata": {},
   "source": [
    "### Undo the splitting\n",
    "\n",
    "- ``join()`` "
   ]
  },
  {
   "cell_type": "code",
   "execution_count": 19,
   "metadata": {},
   "outputs": [
    {
     "data": {
      "text/plain": [
       "'JoHn JESSe Nino YiliN AmanDa'"
      ]
     },
     "execution_count": 19,
     "metadata": {},
     "output_type": "execute_result"
    }
   ],
   "source": [
    "# join() will undo what has been done by split()\n",
    "' '.join(['JoHn', 'JESSe', 'Nino', 'YiliN', 'AmanDa'])"
   ]
  },
  {
   "cell_type": "markdown",
   "metadata": {},
   "source": [
    "### File I O operations: read in strings from external text file.\n",
    "### - ``open( )`` allows you to open an existing file or to create a new file in Python.\n",
    "#### - open(filename,'r') read an existing file.\n",
    "#### - open(filename,'w') write to a new file: be cautious.\n",
    "#### - open(filename,'a') append new information to an existing file.\n",
    "### - ``readlines( )`` allows you to convert the content of a text file to a list, in which each element corresponds to a line. \n",
    "### - ``write( )`` allows you to write strings to a file."
   ]
  },
  {
   "cell_type": "code",
   "execution_count": 23,
   "metadata": {},
   "outputs": [
    {
     "name": "stdout",
     "output_type": "stream",
     "text": [
      "['1,13,21,11,196,75,4,3,34,6,7,8,0,1,2,3,4,5\\n', '3,42,12,33,766,75,4,55,6,4,3,4,5,6,7,0,11,12\\n', '1,22,33,11,999,11,2,1,78,0,1,2,9,8,7,1,76,88\\n']\n"
     ]
    }
   ],
   "source": [
    "A = open(\"data.txt\",'r')\n",
    "lines = A.readlines()\n",
    "print(lines)\n",
    "#print(len(lines))\n",
    "#print(lines[0])\n",
    "#B = open(\"new.txt\",'w')\n",
    "#B.write(lines[0])\n",
    "#B.close()"
   ]
  },
  {
   "cell_type": "markdown",
   "metadata": {},
   "source": [
    "## Individual assignment: Getting Data from Text File and Compute the Sum.\n",
    "## Instruction: Read in numeric data from ``data.txt``, sum the numbers over, and save the sum to a new file called ``sum.txt``\n",
    "## Hint: ``split(',')`` allows you to split a string to individual elements that are separated by ``,``"
   ]
  },
  {
   "cell_type": "code",
   "execution_count": null,
   "metadata": {},
   "outputs": [],
   "source": []
  },
  {
   "cell_type": "code",
   "execution_count": null,
   "metadata": {},
   "outputs": [],
   "source": [
    "# Example of File I O operation \n",
    "A = open(\"data.txt\",'r')\n",
    "B = open(\"sum.txt\",'w')\n",
    "\n",
    "# lines is a list of strings with each string storing the text of\n",
    "# a single line in the data.txt\n",
    "lines = A.readlines()\n",
    "\n",
    "# num is an empty list that stores integers taken from the data.txt\n",
    "num = []\n",
    "\n",
    "# prepare loop statements to convert lines to a list of \n",
    "# integers.\n",
    "\n",
    "for i in lines:\n",
    "\n",
    "    \n",
    "    \n",
    "\n",
    "B.write(\"The sum is:\"+str(sum(num)))\n",
    "B.close()"
   ]
  },
  {
   "cell_type": "markdown",
   "metadata": {},
   "source": [
    "## Individual assignment (string manipulation and I/O File operation):\n",
    "## How long is a CO2 molecule? Design an atomic ruler. \n",
    "## In the file CO2.txt, you will find the structual information (Cartesian cooridnates) about CO2 molecule. You will use the coordinates to estimate the length of the CO2 molecule, which is defined as the distance between two oxygen atoms. \n",
    "## Below, you will complete the code for an atomic ruler. You will:\n",
    "## 1. Open the CO2.txt file using I/O file operation\n",
    "## 2. Open the CO2.txt file using I/O file operation"
   ]
  },
  {
   "cell_type": "code",
   "execution_count": null,
   "metadata": {},
   "outputs": [],
   "source": [
    "import math\n",
    "def distance(x,y):\n",
    "    return math.sqrt((x[0]-y[0])**2+(x[1]-y[1])**2+(x[2]-y[2])**2)\n",
    "\n",
    "# Step1: Open the file CO2.txt using open() and transform the data to list using readlines()\n",
    "\n",
    "\n",
    "\n",
    "# Step2: Define a dictionary for C, O1, and O2. split() can be helpful.\n",
    "D = {}\n",
    "\n",
    "\n",
    "# Get the distance between O1 and O2\n",
    "\n",
    "O1_O2 = distance(D['O1'],D['O2']) \n",
    "\n",
    "# Write the results to a new file O1_O2.txt, saying \"The length of is CO2 molecule is XXX angstrom.\"\n",
    "\n",
    "CO2_distance = open('O1_O2.txt','w')\n",
    "CO2_distance.write(\"The length of is CO2 molecule is \" + str(O1_O2) + \" angstrom\")\n",
    "CO2_distance.close()"
   ]
  },
  {
   "cell_type": "code",
   "execution_count": null,
   "metadata": {},
   "outputs": [],
   "source": []
  },
  {
   "cell_type": "code",
   "execution_count": null,
   "metadata": {},
   "outputs": [],
   "source": []
  }
 ],
 "metadata": {
  "kernelspec": {
   "display_name": "Python 3",
   "language": "python",
   "name": "python3"
  },
  "language_info": {
   "codemirror_mode": {
    "name": "ipython",
    "version": 3
   },
   "file_extension": ".py",
   "mimetype": "text/x-python",
   "name": "python",
   "nbconvert_exporter": "python",
   "pygments_lexer": "ipython3",
   "version": "3.8.3"
  }
 },
 "nbformat": 4,
 "nbformat_minor": 4
}
