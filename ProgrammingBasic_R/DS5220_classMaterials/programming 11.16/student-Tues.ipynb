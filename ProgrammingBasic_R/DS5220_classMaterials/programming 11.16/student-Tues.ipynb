{
 "cells": [
  {
   "cell_type": "markdown",
   "metadata": {},
   "source": [
    "## Practice on Coding Functions"
   ]
  },
  {
   "cell_type": "markdown",
   "metadata": {},
   "source": [
    "## Q1: Write a Python function to find the Max of three numbers (Individual)"
   ]
  },
  {
   "cell_type": "code",
   "execution_count": 1,
   "metadata": {},
   "outputs": [
    {
     "name": "stdout",
     "output_type": "stream",
     "text": [
      "number 124\n",
      "number 214\n",
      "number 310\n",
      "24\n"
     ]
    }
   ],
   "source": [
    "def max_of_three(a, b, c):\n",
    "    if a >= b and a >= c:\n",
    "        return a\n",
    "    elif b >= c:\n",
    "        return b\n",
    "    else: return c\n",
    "\n",
    "\n",
    "a = int(input(\"number 1\"))\n",
    "b = int(input(\"number 2\"))\n",
    "c = int(input(\"number 3\"))\n",
    "print(max_of_three(a, b, c))"
   ]
  },
  {
   "cell_type": "markdown",
   "metadata": {},
   "source": [
    "## Q2: Write a Python function that takes a list and returns a new list with unique elements of the first list\n",
    "## Sample List : [1,2,2,2,3,3,3,3,4,5,10,10,10]"
   ]
  },
  {
   "cell_type": "code",
   "execution_count": 2,
   "metadata": {},
   "outputs": [
    {
     "name": "stdout",
     "output_type": "stream",
     "text": [
      "[1, 2, 3, 4, 5, 10]\n"
     ]
    }
   ],
   "source": [
    "def unique_list(l):\n",
    "  x = []\n",
    "  for a in l:\n",
    "    if a not in x:\n",
    "      x.append(a)\n",
    "  return x\n",
    "\n",
    "print(unique_list([1,2,2,2,3,3,3,3,4,5,10,10,10])) "
   ]
  },
  {
   "cell_type": "markdown",
   "metadata": {},
   "source": [
    "## Q3: Write a Python function to reverse strings \"CH3CH2OH\", \"Hello\", and \"Beautiful\" \n",
    "## Note: the function should be able to take in any number of arguments\n",
    "## approach-1: convertion of the string to a list, reverse the list, and then concatenate the letters\n",
    "## approach-2: take letters from a string backwards and then cancatenate.  "
   ]
  },
  {
   "cell_type": "code",
   "execution_count": 13,
   "metadata": {},
   "outputs": [
    {
     "name": "stdout",
     "output_type": "stream",
     "text": [
      "['C', 'H', '3', 'C', 'H', '3', 'O', 'H']\n"
     ]
    }
   ],
   "source": [
    "def mirror(*strings):\n",
    "    rstrings = []\n",
    "    for str1 in strings:\n",
    "        rstr = ''\n",
    "        str1_list = [i for i in str1] #拆分\n",
    "        for i in str1_list[::-1]:\n",
    "            rstr += i #+= rstr += i == rstr = rstr+i\n",
    "        rstrings.append(rstr)\n",
    "    return rstrings\n",
    "\n",
    "print(mirror(\"CH3CH3OH\", \"Hello\", \"Beautiful\"))"
   ]
  },
  {
   "cell_type": "markdown",
   "metadata": {},
   "source": [
    "## Q4: Write a Python function to check if an input string contains numbers \n",
    "\n",
    "## hint: loop, isnumeric(), break"
   ]
  },
  {
   "cell_type": "code",
   "execution_count": 17,
   "metadata": {},
   "outputs": [
    {
     "name": "stdout",
     "output_type": "stream",
     "text": [
      "There is at least one numberic in the string!\n"
     ]
    }
   ],
   "source": [
    "def checker(string):\n",
    "    str_list = [i for i in string] #拆分\n",
    "    for i,j in enumerate(str_list):\n",
    "        if j.isnumeric():\n",
    "            print(\"There is at least one numberic in the string!\")\n",
    "            break\n",
    "    else:\n",
    "        print(\"The string does not contain any numberic\")\n",
    "\n",
    "checker(\"asd1\")\n",
    "#>>>seasons = ['Spring', 'Summer', 'Fall', 'Winter']\n",
    "#>>> list(enumerate(seasons))\n",
    "#[(0, 'Spring'), (1, 'Summer'), (2, 'Fall'), (3, 'Winter')]\n",
    "#>>> list(enumerate(seasons, start=1))       # 下标从 1 开始\n",
    "#[(1, 'Spring'), (2, 'Summer'), (3, 'Fall'), (4, 'Winter')]           "
   ]
  },
  {
   "cell_type": "markdown",
   "metadata": {},
   "source": [
    "## Q5 – Code a division function to divide the following string to a list of tuples. \n",
    "\n",
    "## S = \"A1B2C66DE\"\n",
    "\n",
    "## D = [('A', '1'), ('B', '2'), ('C', '66'), ('D', ''), ('E', '')]\n",
    "\n",
    "## Hint: \"divide and conquer\" "
   ]
  },
  {
   "cell_type": "code",
   "execution_count": 19,
   "metadata": {},
   "outputs": [
    {
     "name": "stdout",
     "output_type": "stream",
     "text": [
      "[('A', '1'), ('B', '2'), ('C', '66'), ('D', ''), ('E', '')]\n"
     ]
    }
   ],
   "source": [
    "def division(S):\n",
    "    L = [i for i in S]\n",
    "    D = []  \n",
    "    for i,j in enumerate(L):\n",
    "        if j.isalpha():\n",
    "            letter = j\n",
    "            n = ''\n",
    "            k = i + 1\n",
    "            while k < len(L):\n",
    "                if L[k].isnumeric():\n",
    "                    n += L[k]\n",
    "                    k += 1\n",
    "                else:\n",
    "                    break\n",
    "            D.append((letter,n))\n",
    "    return D\n",
    "\n",
    "D = division(\"A1B2C66DE\")\n",
    "print(D)"
   ]
  },
  {
   "cell_type": "code",
   "execution_count": null,
   "metadata": {},
   "outputs": [],
   "source": []
  },
  {
   "cell_type": "markdown",
   "metadata": {},
   "source": [
    "# Errors and Exceptions\n",
    "They come in three basic forms:\n",
    "\n",
    "- *Syntax errors:* Errors where the code is not valid Python (generally easy to fix)\n",
    "- *Runtime errors:* Errors where syntactically valid code fails to execute, perhaps due to invalid user input (sometimes easy to fix)\n",
    "- *Semantic errors:* Errors in logic: code executes without a problem, but the result is not what you expect (often very difficult to track-down and fix)"
   ]
  },
  {
   "cell_type": "markdown",
   "metadata": {},
   "source": [
    "## Syntax errors"
   ]
  },
  {
   "cell_type": "code",
   "execution_count": 20,
   "metadata": {},
   "outputs": [
    {
     "name": "stdout",
     "output_type": "stream",
     "text": [
      "John\n"
     ]
    }
   ],
   "source": [
    "\n",
    "\n",
    "\n",
    "print (\"John\")\n",
    "\n",
    "\n"
   ]
  },
  {
   "cell_type": "code",
   "execution_count": 25,
   "metadata": {},
   "outputs": [
    {
     "name": "stdout",
     "output_type": "stream",
     "text": [
      "Good\n"
     ]
    }
   ],
   "source": [
    "\n",
    "\n",
    "\n",
    "if 5 == 5:\n",
    "    print (\"Good\")\n",
    "    \n",
    "    \n",
    "    "
   ]
  },
  {
   "cell_type": "code",
   "execution_count": 26,
   "metadata": {},
   "outputs": [
    {
     "name": "stdout",
     "output_type": "stream",
     "text": [
      "Good\n"
     ]
    }
   ],
   "source": [
    "\n",
    "\n",
    "\n",
    "if 5 == 5:\n",
    "    print(\"Good\")\n",
    "\n",
    "\n"
   ]
  },
  {
   "cell_type": "code",
   "execution_count": 28,
   "metadata": {},
   "outputs": [
    {
     "name": "stdout",
     "output_type": "stream",
     "text": [
      "[1, 2, 3, 4]\n"
     ]
    }
   ],
   "source": [
    "\n",
    "\n",
    "\n",
    "A = [1, 2, 3, 4]\n",
    "print(A)\n",
    "\n",
    "\n"
   ]
  },
  {
   "cell_type": "code",
   "execution_count": 29,
   "metadata": {},
   "outputs": [
    {
     "data": {
      "text/plain": [
       "True"
      ]
     },
     "execution_count": 29,
     "metadata": {},
     "output_type": "execute_result"
    }
   ],
   "source": [
    "\n",
    "\n",
    "\n",
    "A = \"4\"\n",
    "A.isnumeric()\n",
    "\n",
    "\n"
   ]
  },
  {
   "cell_type": "code",
   "execution_count": 30,
   "metadata": {},
   "outputs": [
    {
     "ename": "NameError",
     "evalue": "name 'arriving' is not defined",
     "output_type": "error",
     "traceback": [
      "\u001b[0;31m---------------------------------------------------------------------------\u001b[0m",
      "\u001b[0;31mNameError\u001b[0m                                 Traceback (most recent call last)",
      "\u001b[0;32m<ipython-input-30-2414e1b07409>\u001b[0m in \u001b[0;36m<module>\u001b[0;34m\u001b[0m\n\u001b[0;32m----> 1\u001b[0;31m \u001b[0;32mif\u001b[0m \u001b[0marriving\u001b[0m\u001b[0;34m:\u001b[0m\u001b[0;34m\u001b[0m\u001b[0;34m\u001b[0m\u001b[0m\n\u001b[0m\u001b[1;32m      2\u001b[0m     \u001b[0mprint\u001b[0m\u001b[0;34m(\u001b[0m\u001b[0;34m\"Hi!\"\u001b[0m\u001b[0;34m)\u001b[0m\u001b[0;34m\u001b[0m\u001b[0;34m\u001b[0m\u001b[0m\n\u001b[1;32m      3\u001b[0m \u001b[0;32melse\u001b[0m\u001b[0;34m:\u001b[0m\u001b[0;34m\u001b[0m\u001b[0;34m\u001b[0m\u001b[0m\n\u001b[1;32m      4\u001b[0m     \u001b[0mprint\u001b[0m\u001b[0;34m(\u001b[0m\u001b[0;34m\"Bye!\"\u001b[0m\u001b[0;34m)\u001b[0m\u001b[0;34m\u001b[0m\u001b[0;34m\u001b[0m\u001b[0m\n\u001b[1;32m      5\u001b[0m \u001b[0;34m\u001b[0m\u001b[0m\n",
      "\u001b[0;31mNameError\u001b[0m: name 'arriving' is not defined"
     ]
    }
   ],
   "source": [
    "\n",
    "\n",
    "\n",
    "if arriving:\n",
    "    print(\"Hi!\")\n",
    "else:\n",
    "    print(\"Bye!\")\n",
    "    \n",
    "    \n",
    "    "
   ]
  },
  {
   "cell_type": "markdown",
   "metadata": {},
   "source": [
    "## Runtime errors\n",
    "\n",
    "- ### NameError\n",
    "- ### TypeError\n",
    "- ### IndexError\n",
    "- ### ZeroDivisionError"
   ]
  },
  {
   "cell_type": "code",
   "execution_count": 31,
   "metadata": {},
   "outputs": [
    {
     "ename": "NameError",
     "evalue": "name 'Q' is not defined",
     "output_type": "error",
     "traceback": [
      "\u001b[0;31m---------------------------------------------------------------------------\u001b[0m",
      "\u001b[0;31mNameError\u001b[0m                                 Traceback (most recent call last)",
      "\u001b[0;32m<ipython-input-31-9a72aa7e5011>\u001b[0m in \u001b[0;36m<module>\u001b[0;34m\u001b[0m\n\u001b[1;32m      2\u001b[0m \u001b[0;34m\u001b[0m\u001b[0m\n\u001b[1;32m      3\u001b[0m \u001b[0;34m\u001b[0m\u001b[0m\n\u001b[0;32m----> 4\u001b[0;31m \u001b[0mprint\u001b[0m\u001b[0;34m(\u001b[0m\u001b[0mQ\u001b[0m\u001b[0;34m)\u001b[0m\u001b[0;34m\u001b[0m\u001b[0;34m\u001b[0m\u001b[0m\n\u001b[0m\u001b[1;32m      5\u001b[0m \u001b[0;34m\u001b[0m\u001b[0m\n\u001b[1;32m      6\u001b[0m \u001b[0;34m\u001b[0m\u001b[0m\n",
      "\u001b[0;31mNameError\u001b[0m: name 'Q' is not defined"
     ]
    }
   ],
   "source": [
    "# name error\n",
    "\n",
    "\n",
    "print(Q)\n",
    "\n",
    "\n"
   ]
  },
  {
   "cell_type": "code",
   "execution_count": 32,
   "metadata": {},
   "outputs": [
    {
     "name": "stdout",
     "output_type": "stream",
     "text": [
      "Give me a number6\n"
     ]
    },
    {
     "data": {
      "text/plain": [
       "False"
      ]
     },
     "execution_count": 32,
     "metadata": {},
     "output_type": "execute_result"
    }
   ],
   "source": [
    "# type error    \n",
    "\n",
    "\n",
    "A = 3\n",
    "B = int(input(\"Give me a number\"))\n",
    "A > B\n",
    "\n",
    "\n"
   ]
  },
  {
   "cell_type": "code",
   "execution_count": 34,
   "metadata": {},
   "outputs": [
    {
     "name": "stdout",
     "output_type": "stream",
     "text": [
      "90\n",
      "91\n",
      "92\n",
      "93\n",
      "94\n",
      "95\n",
      "96\n",
      "97\n",
      "98\n"
     ]
    }
   ],
   "source": [
    "# Index Error \n",
    "\n",
    "\n",
    "A = [i for i in range(99)]\n",
    "for j in range(90,99):\n",
    "    print(A[j])\n",
    "\n",
    "    \n"
   ]
  },
  {
   "cell_type": "code",
   "execution_count": 38,
   "metadata": {},
   "outputs": [
    {
     "name": "stdout",
     "output_type": "stream",
     "text": [
      "1.2857142857142858\n",
      "1.8\n",
      "3.0\n",
      "9.0\n",
      "-9.0\n",
      "-3.0\n",
      "1.125\n",
      "1.5\n",
      "2.25\n",
      "4.5\n"
     ]
    },
    {
     "ename": "ZeroDivisionError",
     "evalue": "division by zero",
     "output_type": "error",
     "traceback": [
      "\u001b[0;31m---------------------------------------------------------------------------\u001b[0m",
      "\u001b[0;31mZeroDivisionError\u001b[0m                         Traceback (most recent call last)",
      "\u001b[0;32m<ipython-input-38-f216fd07a492>\u001b[0m in \u001b[0;36m<module>\u001b[0;34m\u001b[0m\n\u001b[1;32m      5\u001b[0m \u001b[0;32mfor\u001b[0m \u001b[0mi\u001b[0m \u001b[0;32min\u001b[0m \u001b[0mrange\u001b[0m\u001b[0;34m(\u001b[0m\u001b[0;36m2\u001b[0m\u001b[0;34m,\u001b[0m\u001b[0;36m4\u001b[0m\u001b[0;34m)\u001b[0m\u001b[0;34m:\u001b[0m\u001b[0;34m\u001b[0m\u001b[0;34m\u001b[0m\u001b[0m\n\u001b[1;32m      6\u001b[0m     \u001b[0;32mfor\u001b[0m \u001b[0mj\u001b[0m \u001b[0;32min\u001b[0m \u001b[0mrange\u001b[0m\u001b[0;34m(\u001b[0m\u001b[0;34m-\u001b[0m\u001b[0;36m2\u001b[0m\u001b[0;34m,\u001b[0m\u001b[0;36m4\u001b[0m\u001b[0;34m)\u001b[0m\u001b[0;34m:\u001b[0m\u001b[0;34m\u001b[0m\u001b[0;34m\u001b[0m\u001b[0m\n\u001b[0;32m----> 7\u001b[0;31m         \u001b[0mprint\u001b[0m\u001b[0;34m(\u001b[0m\u001b[0mA\u001b[0m\u001b[0;34m/\u001b[0m\u001b[0;34m(\u001b[0m\u001b[0mi\u001b[0m \u001b[0;34m-\u001b[0m \u001b[0;36m2\u001b[0m\u001b[0;34m*\u001b[0m\u001b[0mj\u001b[0m \u001b[0;34m+\u001b[0m \u001b[0;36m1\u001b[0m\u001b[0;34m)\u001b[0m\u001b[0;34m)\u001b[0m\u001b[0;34m\u001b[0m\u001b[0;34m\u001b[0m\u001b[0m\n\u001b[0m\u001b[1;32m      8\u001b[0m \u001b[0;34m\u001b[0m\u001b[0m\n\u001b[1;32m      9\u001b[0m \u001b[0;34m\u001b[0m\u001b[0m\n",
      "\u001b[0;31mZeroDivisionError\u001b[0m: division by zero"
     ]
    }
   ],
   "source": [
    "# ZeroDivisionError\n",
    "\n",
    "\n",
    "A = 9\n",
    "for i in range(2,4):\n",
    "    for j in range(-2,4):\n",
    "        print(A/(i - 2*j))\n",
    "        \n",
    "        \n",
    "        "
   ]
  },
  {
   "cell_type": "markdown",
   "metadata": {},
   "source": [
    "## Catch Exceptions: ``try`` and ``except``"
   ]
  },
  {
   "cell_type": "code",
   "execution_count": 39,
   "metadata": {},
   "outputs": [
    {
     "name": "stdout",
     "output_type": "stream",
     "text": [
      "this gets executed first\n"
     ]
    }
   ],
   "source": [
    "try:\n",
    "    print(\"this gets executed first\")\n",
    "except:\n",
    "    print(\"this gets executed only if there is an error\")\n",
    "#finally:\n",
    "#    print(\"this get executed no matter what\")"
   ]
  },
  {
   "cell_type": "code",
   "execution_count": 43,
   "metadata": {},
   "outputs": [
    {
     "name": "stdout",
     "output_type": "stream",
     "text": [
      "Let's see what Q stands for!\n",
      "[]\n",
      "[]\n"
     ]
    }
   ],
   "source": [
    "# NameError\n",
    "\n",
    "\n",
    "try:\n",
    "    print(\"Let's see what Q stands for!\")\n",
    "    print(Q)\n",
    "except:\n",
    "    print(\"Q has not been defined and so is defined here as an empty list\")\n",
    "    Q = []\n",
    "print(Q)\n",
    "\n"
   ]
  },
  {
   "cell_type": "code",
   "execution_count": 44,
   "metadata": {
    "scrolled": true
   },
   "outputs": [
    {
     "name": "stdout",
     "output_type": "stream",
     "text": [
      "1.5\n",
      "2.25\n",
      "4.5\n",
      "nan\n",
      "-4.5\n",
      "-2.25\n",
      "1.2857142857142858\n",
      "1.8\n",
      "3.0\n",
      "9.0\n",
      "-9.0\n",
      "-3.0\n"
     ]
    }
   ],
   "source": [
    "# ZeroDivisionError\n",
    "\n",
    "\n",
    "A = 9\n",
    "for i in range(2,4):\n",
    "    for j in range(-2,4):\n",
    "        try:\n",
    "            print(A/(i-2*j))\n",
    "        except:\n",
    "            print(\"nan\")\n",
    "            \n",
    "            \n",
    "            "
   ]
  },
  {
   "cell_type": "markdown",
   "metadata": {},
   "source": [
    "## Raising Exceptions: ``raise`` – Guiding Users to Properly Run Your Code!"
   ]
  },
  {
   "cell_type": "code",
   "execution_count": 46,
   "metadata": {},
   "outputs": [
    {
     "name": "stdout",
     "output_type": "stream",
     "text": [
      "Give me an integer \n",
      "1\n"
     ]
    }
   ],
   "source": [
    "# Enforce the input integers\n",
    "\n",
    "\n",
    "A = input(\"Give me an integer \\n\")\n",
    "if not A.isnumeric():\n",
    "    raise ValueError(\"A must be an integer\")\n",
    "    \n",
    "    \n",
    "    "
   ]
  },
  {
   "cell_type": "markdown",
   "metadata": {},
   "source": [
    "# Individual Assignment:  try and except\n",
    "# Write a piece of code to \n",
    "# 1. try converting an input value A to an integer;\n",
    "# 2. If 1 failed, try converting an input value A to an floating point number;\n",
    "# 3. If 2 failed, print \"The input string can not be converted to int or float \\n\""
   ]
  },
  {
   "cell_type": "code",
   "execution_count": 47,
   "metadata": {},
   "outputs": [
    {
     "name": "stdout",
     "output_type": "stream",
     "text": [
      "Give me an number \n",
      "4.8\n",
      "Floating point number received \n",
      "\n"
     ]
    }
   ],
   "source": [
    "A = input(\"Give me an number \\n\")\n",
    "\n",
    "try:\n",
    "    A = int(A)\n",
    "    print(\"Integer number received \\n\")\n",
    "except:\n",
    "    try:\n",
    "        A = float(A)\n",
    "        print(\"Floating point number received \\n\")\n",
    "    except:\n",
    "        print(\"The input string can not be converted to int or float\")\n"
   ]
  },
  {
   "cell_type": "code",
   "execution_count": null,
   "metadata": {},
   "outputs": [],
   "source": []
  },
  {
   "cell_type": "code",
   "execution_count": null,
   "metadata": {},
   "outputs": [],
   "source": []
  }
 ],
 "metadata": {
  "kernelspec": {
   "display_name": "Python 3",
   "language": "python",
   "name": "python3"
  },
  "language_info": {
   "codemirror_mode": {
    "name": "ipython",
    "version": 3
   },
   "file_extension": ".py",
   "mimetype": "text/x-python",
   "name": "python",
   "nbconvert_exporter": "python",
   "pygments_lexer": "ipython3",
   "version": "3.8.8"
  }
 },
 "nbformat": 4,
 "nbformat_minor": 4
}
