{
 "cells": [
  {
   "cell_type": "markdown",
   "metadata": {},
   "source": [
    "# Built-In Data Structures"
   ]
  },
  {
   "cell_type": "markdown",
   "metadata": {},
   "source": [
    "We have seen Python's simple types: ``int``, ``float``, ``None``, ``bool``, ``str``, and so on.\n",
    "Python also has several built-in compound types, which act as containers for other types.\n",
    "These compound types are:\n",
    "\n",
    "| Type Name | Example                   |Description                            |\n",
    "|-----------|---------------------------|---------------------------------------|\n",
    "| ``list``  | ``[1, 2, 3]``             | Ordered collection                    |\n",
    "| ``tuple`` | ``(1, 2, 3)``             | Immutable ordered collection          |\n",
    "| ``dict``  | ``{'a':1, 'b':2, 'c':3}`` | Unordered (key,value) mapping         |\n",
    "\n",
    "As you can see, round, square, and curly brackets have distinct meanings when it comes to the type of collection produced.\n",
    "We'll take a quick tour of these data structures here."
   ]
  },
  {
   "cell_type": "markdown",
   "metadata": {},
   "source": [
    "## Lists\n",
    "Lists are the basic *ordered* and *mutable* data collection type in Python."
   ]
  },
  {
   "cell_type": "code",
   "execution_count": 1,
   "metadata": {},
   "outputs": [
    {
     "name": "stdout",
     "output_type": "stream",
     "text": [
      "[2, 3, 5, 7]\n",
      "2\n",
      "<class 'int'>\n",
      "[1, 3, 5, 7]\n",
      "[[1, 2, 3], 3, 5, 7]\n"
     ]
    }
   ],
   "source": [
    "L = [2, 3, 5, 7]\n",
    "# L is ordered\n",
    "print(L)\n",
    "# L is mutable, let's change the first element to be 1!\n",
    "print(L[0])\n",
    "print(type(L[0]))\n",
    "L[0] = 1\n",
    "print(L)\n",
    "L[0] = [1, 2, 3]\n",
    "print(L)"
   ]
  },
  {
   "cell_type": "code",
   "execution_count": 28,
   "metadata": {},
   "outputs": [
    {
     "name": "stdout",
     "output_type": "stream",
     "text": [
      "99\n",
      "2\n"
     ]
    }
   ],
   "source": [
    "# Functions that help gain information from List\n",
    "# len() can help us get the length of a list \n",
    "L = [1, 2, 3, 4, 5, 6, 7, 8, 9, 10, 11, 12, 13, 14, 15, 16, 17, \n",
    "     18, 19, 20, 21, 22, 23, 24, 25, 26, 27, 28, 29, 30, 31, 32, 33, \n",
    "     34, 35, 36, 37, 38, 39, 40, 41, 42, 43, 44, 45, 46, 47, 48, 49, 50, \n",
    "     51, 52, 53, 54, 55, 56, 57, 58, 59, 60, 61, 62, 63, 64, 65, 66, 67,\n",
    "     68, 69, 70, 71, 72, 73, 74, 75, 76, 77, 78, 79, 80, 81, 82, 83, 84, \n",
    "     85, 86, 87, 88, 89, 90, 91, 92, 93, 94, 95, 96, 97, 98, 99]\n",
    "print(len(L)) # number of items in the list\n",
    "print(L[1])"
   ]
  },
  {
   "cell_type": "code",
   "execution_count": 15,
   "metadata": {},
   "outputs": [
    {
     "name": "stdout",
     "output_type": "stream",
     "text": [
      "6\n",
      "6\n",
      "5\n",
      "6\n"
     ]
    }
   ],
   "source": [
    "# Be aware of the difference between String and list when applying len()\n",
    "print(len(\"String\"))\n",
    "print(len([\"String\"][0]))\n",
    "\n",
    "L1 = \"alvin\"\n",
    "print(len(L1))\n",
    "L2 = [\"alvin\",\"alvin1\",\"alvin2\"]\n",
    "print(len(L2[1]))"
   ]
  },
  {
   "cell_type": "code",
   "execution_count": null,
   "metadata": {},
   "outputs": [],
   "source": [
    "# append() function can be used to add more items in the List\n",
    "L = [2, 3, 5, 7] \n",
    "print(L)\n",
    "print(len(L))\n",
    "L.append(\"11\")\n",
    "print(L)\n",
    "print(len(L))\n",
    "L.insert(0, \"11\")\n",
    "print(L)\n",
    "L.insert(3, \"11\")\n",
    "print(L)"
   ]
  },
  {
   "cell_type": "code",
   "execution_count": null,
   "metadata": {},
   "outputs": [],
   "source": [
    "# The third function of \"+\": joining two lists! \n",
    "L1 = [2, 3, 5, 7] \n",
    "L2 = [2, 3, 5, 7]\n",
    "L3 = L1 + L2\n",
    "print(L3)\n",
    "print(len(L3))"
   ]
  },
  {
   "cell_type": "code",
   "execution_count": null,
   "metadata": {},
   "outputs": [],
   "source": [
    "# sort() can help you rank the elements \n",
    "L = [2, 3, 5, 7, 2, 3, 5, 7] \n",
    "L.sort()\n",
    "print(L)\n",
    "S = [\"7\", \"5\", \"0\", \"John\", \"DS5220\", \"Sony Building\", \"Abcdfwhdjsjsjsjxnxnnx\",\"1111z\"]\n",
    "S.sort()\n",
    "print(S)"
   ]
  },
  {
   "cell_type": "code",
   "execution_count": null,
   "metadata": {},
   "outputs": [],
   "source": []
  },
  {
   "cell_type": "markdown",
   "metadata": {},
   "source": [
    "### List indexing and slicing: accessing to items in a List"
   ]
  },
  {
   "cell_type": "code",
   "execution_count": null,
   "metadata": {},
   "outputs": [],
   "source": [
    "L = [2, 3, 5, 7]\n",
    "print(L[0]) \n",
    "print(L[1])"
   ]
  },
  {
   "cell_type": "code",
   "execution_count": 1,
   "metadata": {},
   "outputs": [
    {
     "name": "stdout",
     "output_type": "stream",
     "text": [
      "7\n",
      "5\n"
     ]
    }
   ],
   "source": [
    "# What will you get by having L[-1]?\n",
    "L = [2, 3, 5, 7]\n",
    "print(L[-1]) \n",
    "print(L[-2])"
   ]
  },
  {
   "cell_type": "code",
   "execution_count": 2,
   "metadata": {},
   "outputs": [
    {
     "name": "stdout",
     "output_type": "stream",
     "text": [
      "[2, 3, 5]\n",
      "[3]\n",
      "[2, 3, 5, 7]\n",
      "[2, 3]\n",
      "3\n",
      "2\n",
      "5\n",
      "[3, 5]\n"
     ]
    }
   ],
   "source": [
    "# colon \"i:j\" means i=< and <j \n",
    "L = [2, 3, 5, 7]\n",
    "print(L[0:3]) # 0 =<  <3 \n",
    "print(L[1:2])\n",
    "print(L[:]) # sample all the indexes\n",
    "print(L[:2])\n",
    "print(L[-3])\n",
    "print(L[-4])\n",
    "print(L[-2])\n",
    "\n",
    "\n",
    "print(L[-3:-1])"
   ]
  },
  {
   "cell_type": "code",
   "execution_count": 49,
   "metadata": {},
   "outputs": [
    {
     "name": "stdout",
     "output_type": "stream",
     "text": [
      "[2, 5]\n",
      "[2, 7]\n",
      "[7, 5, 3, 2]\n",
      "[7, 3]\n",
      "[7, 2]\n",
      "[3]\n"
     ]
    }
   ],
   "source": [
    "# what if we have two colons \"::\"\" ?\n",
    "L = [2, 3, 5, 7]\n",
    "print(L[::2])\n",
    "print(L[::3])\n",
    "print(L[::-1])\n",
    "print(L[::-2])\n",
    "print(L[::-3])"
   ]
  },
  {
   "cell_type": "markdown",
   "metadata": {},
   "source": [
    "### Individual excercise: L = [1,3,5,7,9,11]. Use list slicing to get L1 = [11,7,3] "
   ]
  },
  {
   "cell_type": "code",
   "execution_count": 45,
   "metadata": {},
   "outputs": [
    {
     "data": {
      "text/plain": [
       "[11, 7, 3]"
      ]
     },
     "execution_count": 45,
     "metadata": {},
     "output_type": "execute_result"
    }
   ],
   "source": [
    "L = [1,3,5,7,9,11]\n",
    "L[::-2]"
   ]
  },
  {
   "cell_type": "markdown",
   "metadata": {},
   "source": [
    "## Tuples\n",
    "Tuples are similar to lists, but tuples are immutable."
   ]
  },
  {
   "cell_type": "code",
   "execution_count": 55,
   "metadata": {},
   "outputs": [
    {
     "name": "stdout",
     "output_type": "stream",
     "text": [
      "(1, 2, 3)\n",
      "<class 'tuple'>\n",
      "(1, 2, 3)\n",
      "<class 'tuple'>\n"
     ]
    }
   ],
   "source": [
    "T = (1, 2, 3)\n",
    "print(T)\n",
    "print(type(T))\n",
    "T1 = 1, 2, 3\n",
    "print(T1)\n",
    "print(type(T1))"
   ]
  },
  {
   "cell_type": "code",
   "execution_count": 57,
   "metadata": {},
   "outputs": [
    {
     "name": "stdout",
     "output_type": "stream",
     "text": [
      "3\n",
      "1\n"
     ]
    }
   ],
   "source": [
    "# We can also use len() to get the number of items of Tuple\n",
    "T = (1, 2, 3)\n",
    "print(len(T))\n",
    "# Indexing also works!\n",
    "print(T[0])"
   ]
  },
  {
   "cell_type": "code",
   "execution_count": 11,
   "metadata": {},
   "outputs": [
    {
     "ename": "AttributeError",
     "evalue": "'tuple' object has no attribute 'sort'",
     "output_type": "error",
     "traceback": [
      "\u001b[0;31m---------------------------------------------------------------------------\u001b[0m",
      "\u001b[0;31mAttributeError\u001b[0m                            Traceback (most recent call last)",
      "\u001b[0;32m<ipython-input-11-36fdba0b34c4>\u001b[0m in \u001b[0;36m<module>\u001b[0;34m\u001b[0m\n\u001b[1;32m      3\u001b[0m \u001b[0;31m#T[0] = 4\u001b[0m\u001b[0;34m\u001b[0m\u001b[0;34m\u001b[0m\u001b[0;34m\u001b[0m\u001b[0m\n\u001b[1;32m      4\u001b[0m \u001b[0;31m#T.append(4)\u001b[0m\u001b[0;34m\u001b[0m\u001b[0;34m\u001b[0m\u001b[0;34m\u001b[0m\u001b[0m\n\u001b[0;32m----> 5\u001b[0;31m \u001b[0mT\u001b[0m\u001b[0;34m.\u001b[0m\u001b[0msort\u001b[0m\u001b[0;34m(\u001b[0m\u001b[0;34m)\u001b[0m\u001b[0;34m\u001b[0m\u001b[0;34m\u001b[0m\u001b[0m\n\u001b[0m",
      "\u001b[0;31mAttributeError\u001b[0m: 'tuple' object has no attribute 'sort'"
     ]
    }
   ],
   "source": [
    "# But tuple is immutable!\n",
    "T = (1, 2, 3)\n",
    "#T[0] = 4\n",
    "#T.append(4)\n",
    "T.sort()"
   ]
  },
  {
   "cell_type": "code",
   "execution_count": 61,
   "metadata": {},
   "outputs": [
    {
     "name": "stdout",
     "output_type": "stream",
     "text": [
      "([1, '2', 2, 3, 2], 4, 5)\n"
     ]
    }
   ],
   "source": [
    "T = ([1,2,3],4,5)\n",
    "#T.append(\"11\")\n",
    "#T.insert(0, \"11\")\n",
    "T[0].append(2) \n",
    "T[0].insert(1,\"2\") \n",
    "print(T)"
   ]
  },
  {
   "cell_type": "markdown",
   "metadata": {},
   "source": [
    "## Dictionaries\n",
    "Dictionaries are extremely flexible mappings of keys to values.\n",
    "They can be created via a list of ``key:value`` pairs within curly braces:"
   ]
  },
  {
   "cell_type": "code",
   "execution_count": 61,
   "metadata": {},
   "outputs": [
    {
     "name": "stdout",
     "output_type": "stream",
     "text": [
      "2\n"
     ]
    }
   ],
   "source": [
    "numbers = {'one':1, 'two':2, 'three':3}\n",
    "print(numbers['two'])"
   ]
  },
  {
   "cell_type": "code",
   "execution_count": 62,
   "metadata": {},
   "outputs": [
    {
     "name": "stdout",
     "output_type": "stream",
     "text": [
      "{'one': 1, 'two': 2, 'three': 3, 'four': 4}\n"
     ]
    }
   ],
   "source": [
    "# We can define new Key:value pairs in the dictionary\n",
    "numbers = {'one':1, 'two':2, 'three':3}\n",
    "numbers['four'] = 4\n",
    "print(numbers)"
   ]
  },
  {
   "cell_type": "code",
   "execution_count": 62,
   "metadata": {},
   "outputs": [
    {
     "name": "stdout",
     "output_type": "stream",
     "text": [
      "{'one': 1, 'two': 2, 'three': 3, 'four': 6}\n"
     ]
    }
   ],
   "source": [
    "# The dictionary is mutable!\n",
    "numbers = {\"one\":1, 'two':2, 'three':3, 'four': 4}\n",
    "numbers['four'] = 6\n",
    "print(numbers)"
   ]
  },
  {
   "cell_type": "code",
   "execution_count": null,
   "metadata": {},
   "outputs": [],
   "source": [
    "numbers = {'one':1, 'two':2, 'three':3, 'four': 4}\n",
    "numbers['four'] = (6,6,7,8,\"DS5220\")\n",
    "print(numbers)"
   ]
  },
  {
   "cell_type": "markdown",
   "metadata": {},
   "source": [
    "### Individual assignment: Dictionary for chemical elements C, H, O, and N.\n",
    "\n",
    "\n",
    "<br> Step1: Create an ``empty dictionary``, named \"elements\", for containing chemical elements\n",
    "<br> Step2: The keys involve \"carbon\", \"hydrogen\", \"oxygen\", and \"nitrogen\"\n",
    "<br> Step3: For each key, define the value as a list.\n",
    "<br> Step4: The value list should include the following information \n",
    "\n",
    "<br> atomic labels:\n",
    "<br> C, H, O, N\n",
    "<br> atomic number:\n",
    "<br> 6, 1, 8, 7\n",
    "<br> atomic mass:\n",
    "<br> 12, 1, 16, 14\n",
    "\n",
    "<br> Optional\n",
    "<br> Step5: Define an input function to take in the name of the element.\n",
    "<br> Step6: Print the values associated! "
   ]
  },
  {
   "cell_type": "code",
   "execution_count": null,
   "metadata": {},
   "outputs": [
    {
     "name": "stdout",
     "output_type": "stream",
     "text": [
      "{'carbon': ['C', 6, 12], 'hydrogen': ['H', 1, 1], 'oxygen': ['O', 8, 16], 'nitrogen': ['N', 7, 14]}\n"
     ]
    }
   ],
   "source": [
    "elements = {\"carbon\":[ \"C\", 6, 12],\"hydrogen\":[ \"H\", 1, 1],\"oxygen\":[ \"O\", 8, 16],\"nitrogen\":[ \"N\", 7, 14]}\n",
    "\n",
    "print(elements)\n",
    "\n",
    "Z = input(\"input the name of element\")\n",
    "print(elements[Z])\n",
    "\n"
   ]
  },
  {
   "cell_type": "markdown",
   "metadata": {},
   "source": [
    "# Control Flow (makes your program smarter!)\n",
    "# Control Flow-1: Conditional Statements if-elif-else"
   ]
  },
  {
   "cell_type": "code",
   "execution_count": null,
   "metadata": {},
   "outputs": [],
   "source": [
    "# A very simple case\n",
    "is_student = False # bool type variable \n",
    "if is_student:\n",
    "    print(\"You are a student\")\n",
    "else:\n",
    "    print(\"You are not a student\")"
   ]
  },
  {
   "cell_type": "code",
   "execution_count": null,
   "metadata": {},
   "outputs": [],
   "source": [
    "# Combination of cases\n",
    "is_student = False\n",
    "is_living_oncampus = True \n",
    "\n",
    "if is_student and is_living_oncampus:\n",
    "    print(\"You are a student living on campus\")\n",
    "elif is_student or is_living_oncampus:\n",
    "    print(\"You are either a student or living on campus\")\n",
    "else:\n",
    "    print(\"You are neither a student nor living on campus\")"
   ]
  },
  {
   "cell_type": "code",
   "execution_count": null,
   "metadata": {},
   "outputs": [],
   "source": [
    "is_student = None\n",
    "is_living_oncampus = None\n",
    "A = input(\"Are you a student? y/n \")\n",
    "\n",
    "if A == 'y': is_student = True\n",
    "elif A == 'n': is_student = False\n",
    "else: \n",
    "    print('You have typed in something wrong! Exit and retype!') \n",
    "#import sys \n",
    "sys.exit('You have typed in something wrong! Exit and retype!')\n",
    "    \n",
    "B = input(\"Are you living on campus? y/n \")\n",
    "\n",
    "if A == 'y': is_living_oncampus = True\n",
    "elif A == 'n': is_living_oncampus = False\n",
    "else: \n",
    "    print(\"You have typed in something wrong!\")\n",
    "\n",
    "if is_student and is_living_oncampus:\n",
    "    print(\"You are a student living on campus!\")\n",
    "elif is_student or is_living_oncampus:\n",
    "    print(\"You are either a student or living on campus!\")\n",
    "else:\n",
    "    print(\"You are neither a student nor living on campus!\")"
   ]
  },
  {
   "cell_type": "markdown",
   "metadata": {},
   "source": [
    "## Write a prece of code to compare three integers, and find out the largest among the three input values"
   ]
  },
  {
   "cell_type": "code",
   "execution_count": null,
   "metadata": {},
   "outputs": [],
   "source": [
    "A = int(input(\"Give me the first number. \\n\")) #\\n is for changing to a new line\n",
    "B = int(input(\"Give me the second number. \\n\")) #\\n is for changing to a new line\n",
    "C = int(input(\"Give me the third number. \\n\")) #\\n is for changing to a new line\n",
    "if A >= B and A >= C:\n",
    "    print(str(A)+\" is the largest number!!\")\n",
    "elif B >= C:\n",
    "    print(str(B)+\" is the largest number!!\")\n",
    "else: \n",
    "    print(str(C)+\" is the largest number!!\")"
   ]
  },
  {
   "cell_type": "markdown",
   "metadata": {},
   "source": [
    "## Individual task: write a prece of code to compare three integers, and find out the smallest among the three"
   ]
  },
  {
   "cell_type": "code",
   "execution_count": null,
   "metadata": {},
   "outputs": [],
   "source": [
    "A = int(input(\"Give me the first number. \\n\")) #\\n is for changing to a new line\n",
    "B = int(input(\"Give me the second number. \\n\")) #\\n is for changing to a new line\n",
    "C = int(input(\"Give me the third number. \\n\")) #\\n is for changing to a new line\n",
    "if \n",
    "\n",
    "elif: \n",
    "\n",
    "else:"
   ]
  },
  {
   "cell_type": "markdown",
   "metadata": {},
   "source": [
    "# Control Flow-2: Conditional Statements ``for`` loops and ``while`` loops"
   ]
  },
  {
   "cell_type": "markdown",
   "metadata": {},
   "source": [
    "# ``for`` loops: when you know exactly the range for a list of things "
   ]
  },
  {
   "cell_type": "code",
   "execution_count": 1,
   "metadata": {
    "scrolled": true
   },
   "outputs": [
    {
     "name": "stdout",
     "output_type": "stream",
     "text": [
      "10\n",
      "9\n",
      "8\n",
      "7\n",
      "6\n"
     ]
    }
   ],
   "source": [
    "# Define a list and print each element individually\n",
    "L = [10, 9, 8, 7, 6]\n",
    "#print(L)\n",
    "for i in L:\n",
    "    print(i)"
   ]
  },
  {
   "cell_type": "markdown",
   "metadata": {},
   "source": [
    "## range(): a built-in function to iterate integers\n",
    "- ## range(n)  will generate integers from ``0`` to ``(n-1)``\n",
    "- ## range(m,n) will generate integers from ``m`` to ``(n-1)``\n",
    "- ## range(m,n,step_size) will generate integers from ``m`` to ``n-1`` with ``step_size`` as incremental factor in each iteration. The default step_size is 1 if not explicitly mentioned."
   ]
  },
  {
   "cell_type": "code",
   "execution_count": 6,
   "metadata": {},
   "outputs": [
    {
     "name": "stdout",
     "output_type": "stream",
     "text": [
      "[0, 1, 2, 3, 4, 5, 6, 7, 8, 9]\n"
     ]
    }
   ],
   "source": [
    "# range(n)\n",
    "L = [] \n",
    "n = 10\n",
    "for i in range(n):\n",
    "    L.append(i)\n",
    "print(L)"
   ]
  },
  {
   "cell_type": "code",
   "execution_count": 7,
   "metadata": {},
   "outputs": [
    {
     "name": "stdout",
     "output_type": "stream",
     "text": [
      "[5, 6, 7, 8, 9]\n"
     ]
    }
   ],
   "source": [
    "# range(m, n)\n",
    "L = [] \n",
    "m = 5\n",
    "n = 10\n",
    "for i in range(m,n):\n",
    "    L.append(i)\n",
    "print(L)"
   ]
  },
  {
   "cell_type": "code",
   "execution_count": 11,
   "metadata": {},
   "outputs": [
    {
     "name": "stdout",
     "output_type": "stream",
     "text": [
      "[5, 7, 9]\n"
     ]
    }
   ],
   "source": [
    "# range(m, n, stepsize)\n",
    "L = [] \n",
    "m = 5\n",
    "n = 10\n",
    "stepsize = 2\n",
    "for i in range(m, n, stepsize):\n",
    "    L.append(i)\n",
    "print(L)"
   ]
  },
  {
   "cell_type": "code",
   "execution_count": null,
   "metadata": {},
   "outputs": [],
   "source": [
    "# range(m, n, stepsize)\n",
    "L = [] \n",
    "m = 5\n",
    "n = 10\n",
    "stepsize = 2\n",
    "for i in range(m, n, stepsize):\n",
    "    L.append(i)\n",
    "print(L)\n",
    "    "
   ]
  },
  {
   "cell_type": "markdown",
   "metadata": {},
   "source": [
    "## enumerate() function help you get both the variables and the indexes of elements in the list"
   ]
  },
  {
   "cell_type": "code",
   "execution_count": 2,
   "metadata": {},
   "outputs": [
    {
     "name": "stdout",
     "output_type": "stream",
     "text": [
      "(0, 10)\n",
      "(1, 9)\n",
      "(2, 8)\n",
      "(3, 7)\n",
      "(4, 6)\n"
     ]
    }
   ],
   "source": [
    "L = [10, 9, 8, 7, 6]\n",
    "for i in enumerate(L):\n",
    "    print(i)\n",
    "#for i,j in enumerate(L):\n",
    "#    print(\"Index: \"+str(i)+\" Value:\"+str(j))"
   ]
  },
  {
   "cell_type": "markdown",
   "metadata": {},
   "source": [
    "## Build a Game: Lucky number!\n",
    "## Individual assignment: Complete the following code\n",
    "## Section-1. First build a list to contain 50 random integers ranging from 0 to 100. Hint: loop\n",
    "## Section-2. Input an integer and check if the input string contains numberics only. Hint: isnumeric()\n",
    "## Section-3. Check to see if the input integer is a member of the list of random numbers. "
   ]
  },
  {
   "cell_type": "code",
   "execution_count": null,
   "metadata": {},
   "outputs": [],
   "source": [
    "import random\n",
    "\n",
    "#Section-1 Hint: for loop\n",
    "A = []\n",
    "Num = 50\n",
    "XXX: # Here we are trying to build a list with \"Num\" of elements.\n",
    "    n = random.randint(0,100)\n",
    "    A.append(n)\n",
    "if A: \n",
    "    print(\"A is a list containing \" + str(Num) + \" random numbers between 0 and 99\")\n",
    "else:\n",
    "    print(\"A contains no elements\")\n",
    "\n",
    "#Section-2 Hint: isnumeric() \n",
    "B = input(\"Pure guess – give me an integer between 0 and 99! \\n\")\n",
    "XXX\n",
    "XXX\n",
    "XXX\n",
    "XXX\n",
    "    \n",
    "#Section-3 Hint: if-else\n",
    "XXX: \n",
    "    print(\"Good guess!\")\n",
    "else: print(\"Bad guess!\")"
   ]
  },
  {
   "cell_type": "code",
   "execution_count": 19,
   "metadata": {},
   "outputs": [
    {
     "name": "stdout",
     "output_type": "stream",
     "text": [
      "A is a list containing 50 random numbers between 0 and 99\n",
      "Pure guess – give me an integer between 0 and 99! \n",
      "45\n",
      "Good guess!\n"
     ]
    }
   ],
   "source": [
    "import random\n",
    "\n",
    "#Section-1 Hint: for loop\n",
    "A = []\n",
    "Num = 50\n",
    "for i in range(Num): # Here we are trying to build a list with \"Num\" of elements.\n",
    "    n = random.randint(0,100)\n",
    "    A.append(n)\n",
    "if A: \n",
    "    print(\"A is a list containing \" + str(Num) + \" random numbers between 0 and 99\")\n",
    "else:\n",
    "    print(\"A contains no elements\")\n",
    "\n",
    "#Section-2 Hint: if-else  \n",
    "B = input(\"Pure guess – give me an integer between 0 and 99! \\n\")\n",
    "if B.isnumeric():\n",
    "    B = int(B)\n",
    "else: \n",
    "    print(\"B is not numeric\")    \n",
    "\n",
    "#Section-3 Hint: if-else\n",
    "if B in A: \n",
    "    print(\"Good guess!\")\n",
    "else: print(\"Bad guess!\")"
   ]
  },
  {
   "cell_type": "markdown",
   "metadata": {},
   "source": [
    "# ``while`` loops: good when you know what the termination criteria is."
   ]
  },
  {
   "cell_type": "code",
   "execution_count": 3,
   "metadata": {},
   "outputs": [
    {
     "name": "stdout",
     "output_type": "stream",
     "text": [
      "0\n",
      "0.3\n",
      "0.6\n",
      "0.8999999999999999\n",
      "1.2\n",
      "1.5\n",
      "1.8\n",
      "2.1\n",
      "2.4\n",
      "2.6999999999999997\n",
      "2.9999999999999996\n",
      "3.2999999999999994\n",
      "3.599999999999999\n",
      "3.899999999999999\n",
      "4.199999999999999\n",
      "4.499999999999999\n",
      "4.799999999999999\n",
      "5.099999999999999\n",
      "5.399999999999999\n",
      "5.699999999999998\n",
      "5.999999999999998\n",
      "6.299999999999998\n",
      "6.599999999999998\n",
      "6.899999999999998\n",
      "7.1999999999999975\n",
      "7.499999999999997\n",
      "7.799999999999997\n",
      "8.099999999999998\n",
      "8.399999999999999\n",
      "8.7\n",
      "9.0\n",
      "9.3\n",
      "9.600000000000001\n",
      "9.900000000000002\n"
     ]
    }
   ],
   "source": [
    "i = 0\n",
    "while i < 10.1:\n",
    "    print(i)\n",
    "    i = i + 0.3 "
   ]
  },
  {
   "cell_type": "code",
   "execution_count": 23,
   "metadata": {},
   "outputs": [
    {
     "name": "stdout",
     "output_type": "stream",
     "text": [
      "2\n",
      "5\n",
      "6\n",
      "7\n"
     ]
    }
   ],
   "source": [
    "L = [2, 5, 6, 7]\n",
    "i = 0\n",
    "while i < len(L):\n",
    "    print(L[i])\n",
    "    i = i + 1"
   ]
  },
  {
   "cell_type": "markdown",
   "metadata": {},
   "source": [
    "# ``continue`` and ``break`` "
   ]
  },
  {
   "cell_type": "code",
   "execution_count": 6,
   "metadata": {},
   "outputs": [
    {
     "name": "stdout",
     "output_type": "stream",
     "text": [
      "b e a k "
     ]
    }
   ],
   "source": [
    "for val in \"break\":\n",
    "    if val == \"r\":\n",
    "        continue\n",
    "    print(val, end = ' ')"
   ]
  },
  {
   "cell_type": "code",
   "execution_count": 27,
   "metadata": {},
   "outputs": [
    {
     "name": "stdout",
     "output_type": "stream",
     "text": [
      "b "
     ]
    }
   ],
   "source": [
    "for val in \"break\":\n",
    "    if val == \"r\":\n",
    "        break\n",
    "    print(val, end = ' ')"
   ]
  },
  {
   "cell_type": "markdown",
   "metadata": {},
   "source": []
  },
  {
   "cell_type": "code",
   "execution_count": 7,
   "metadata": {},
   "outputs": [
    {
     "name": "stdout",
     "output_type": "stream",
     "text": [
      "b e "
     ]
    }
   ],
   "source": [
    "for val in \"break\":\n",
    "    if val == \"r\":\n",
    "        continue\n",
    "    elif val == \"a\":\n",
    "        break\n",
    "    else:\n",
    "        print(val, end = ' ')"
   ]
  },
  {
   "cell_type": "code",
   "execution_count": null,
   "metadata": {},
   "outputs": [],
   "source": []
  },
  {
   "cell_type": "code",
   "execution_count": null,
   "metadata": {},
   "outputs": [],
   "source": []
  },
  {
   "cell_type": "code",
   "execution_count": null,
   "metadata": {},
   "outputs": [],
   "source": []
  },
  {
   "cell_type": "code",
   "execution_count": null,
   "metadata": {},
   "outputs": [],
   "source": []
  },
  {
   "cell_type": "code",
   "execution_count": null,
   "metadata": {},
   "outputs": [],
   "source": []
  },
  {
   "cell_type": "code",
   "execution_count": null,
   "metadata": {},
   "outputs": [],
   "source": []
  },
  {
   "cell_type": "markdown",
   "metadata": {},
   "source": []
  },
  {
   "cell_type": "code",
   "execution_count": null,
   "metadata": {},
   "outputs": [],
   "source": []
  },
  {
   "cell_type": "code",
   "execution_count": null,
   "metadata": {},
   "outputs": [],
   "source": []
  },
  {
   "cell_type": "code",
   "execution_count": null,
   "metadata": {},
   "outputs": [],
   "source": []
  },
  {
   "cell_type": "code",
   "execution_count": 2,
   "metadata": {},
   "outputs": [
    {
     "data": {
      "text/plain": [
       "True"
      ]
     },
     "execution_count": 2,
     "metadata": {},
     "output_type": "execute_result"
    }
   ],
   "source": []
  },
  {
   "cell_type": "code",
   "execution_count": null,
   "metadata": {},
   "outputs": [],
   "source": []
  },
  {
   "cell_type": "code",
   "execution_count": null,
   "metadata": {},
   "outputs": [],
   "source": [
    "# Module-10: Friday, Control Flow (makes your program smarter!)\n",
    "# Control Flow-2: Conditional Statements ``for`` loops and ``while`` loops\n",
    "\n",
    "# ``for`` loops: when you know exactly the range for a list of things \n",
    "\n",
    "# Define a list and print each element individually\n",
    "L = [10, 9, 8, 7, 6]\n",
    "#print(L)\n",
    "for i in L:\n",
    "    print(i)\n",
    "\n",
    "## range(): a built-in function to iterate integers\n",
    "- ## range(n)  will generate integers from ``0`` to ``(n-1)``\n",
    "- ## range(m,n) will generate integers from ``m`` to ``(n-1)``\n",
    "- ## range(m,n,step_size) will generate integers from ``m`` to ``n-1`` with ``step_size`` as incremental factor in each iteration. The default step_size is 1 if not explicitly mentioned.\n",
    "\n",
    "# range(n)\n",
    "L = [] \n",
    "n = 10\n",
    "for i in range(n):\n",
    "    L.append(i)\n",
    "print(L)\n",
    "\n",
    "# range(m, n)\n",
    "L = [] \n",
    "m = 5\n",
    "n = 10\n",
    "for i in range(m,n):\n",
    "    L.append(i)\n",
    "print(L)\n",
    "\n",
    "# range(m, n, stepsize)\n",
    "L = [] \n",
    "m = 5\n",
    "n = 10\n",
    "stepsize = 2\n",
    "for i in range(m, n, stepsize):\n",
    "    L.append(i)\n",
    "print(L)\n",
    "\n",
    "# range(m, n, stepsize)\n",
    "L = [] \n",
    "m = 5\n",
    "n = 10\n",
    "stepsize = 2\n",
    "for i in range(m, n, stepsize):\n",
    "    L.append(i)\n",
    "print(L)\n",
    "    \n",
    "\n",
    "## enumerate() function help you get both the variables and the indexes of elements in the list\n",
    "\n",
    "L = [10, 9, 8, 7, 6]\n",
    "for i in enumerate(L):\n",
    "    print(i)\n",
    "#for i,j in enumerate(L):\n",
    "#    print(\"Index: \"+str(i)+\" Value:\"+str(j))\n",
    "\n",
    "## Build a Game: Lucky number!\n",
    "## Individual assignment: Complete the following code\n",
    "## Section-1. First build a list to contain 50 random integers ranging from 0 to 100. Hint: loop\n",
    "## Section-2. Input an integer and check if the input string contains numberics only. Hint: isnumeric()\n",
    "## Section-3. Check to see if the input integer is a member of the list of random numbers. \n",
    "\n",
    "import random\n",
    "\n",
    "#Section-1 Hint: for loop\n",
    "A = []\n",
    "Num = 50\n",
    "XXX: # Here we are trying to build a list with \"Num\" of elements.\n",
    "    n = random.randint(0,100)\n",
    "    A.append(n)\n",
    "if A: \n",
    "    print(\"A is a list containing \" + str(Num) + \" random numbers between 0 and 99\")\n",
    "else:\n",
    "    print(\"A contains no elements\")\n",
    "\n",
    "#Section-2 Hint: isnumeric() \n",
    "B = input(\"Pure guess – give me an integer between 0 and 99! \\n\")\n",
    "XXX\n",
    "XXX\n",
    "XXX\n",
    "XXX\n",
    "    \n",
    "#Section-3 Hint: if-else\n",
    "XXX: \n",
    "    print(\"Good guess!\")\n",
    "else: print(\"Bad guess!\")\n",
    "\n",
    "import random\n",
    "\n",
    "#Section-1 Hint: for loop\n",
    "A = []\n",
    "Num = 50\n",
    "for i in range(Num): # Here we are trying to build a list with \"Num\" of elements.\n",
    "    n = random.randint(0,100)\n",
    "    A.append(n)\n",
    "if A: \n",
    "    print(\"A is a list containing \" + str(Num) + \" random numbers between 0 and 99\")\n",
    "else:\n",
    "    print(\"A contains no elements\")\n",
    "\n",
    "#Section-2 Hint: if-else  \n",
    "B = input(\"Pure guess – give me an integer between 0 and 99! \\n\")\n",
    "if B.isnumeric():\n",
    "    B = int(B)\n",
    "else: \n",
    "    print(\"B is not numeric\")    \n",
    "\n",
    "#Section-3 Hint: if-else\n",
    "if B in A: \n",
    "    print(\"Good guess!\")\n",
    "else: print(\"Bad guess!\")\n",
    "\n",
    "# ``while`` loops: good when you know what the termination criteria is.\n",
    "\n",
    "i = 0\n",
    "while i < 10.1:\n",
    "    print(i)\n",
    "    i = i + 0.3 \n",
    "\n",
    "L = [2, 5, 6, 7]\n",
    "i = 0\n",
    "while i < len(L):\n",
    "    print(L[i])\n",
    "    i = i + 1\n",
    "\n",
    "# ``continue`` and ``break`` \n",
    "\n",
    "for val in \"break\":\n",
    "    if val == \"r\":\n",
    "        continue\n",
    "    print(val, end = ' ')\n",
    "\n",
    "for val in \"break\":\n",
    "    if val == \"r\":\n",
    "        break\n",
    "    print(val, end = ' ')\n",
    "\n",
    "\n",
    "\n",
    "for val in \"break\":\n",
    "    if val == \"r\":\n",
    "        continue\n",
    "    elif val == \"a\":\n",
    "        break\n",
    "    else:\n",
    "        print(val, end = ' ')\n",
    "\n",
    "\n",
    "\n",
    "\n",
    "\n",
    "\n",
    "\n",
    "\n",
    "\n",
    "\n",
    "\n",
    "\n",
    "\n",
    "\n",
    "\n",
    "\n",
    "\n",
    "\n",
    "\n",
    "\n",
    "\n",
    "\n",
    "\n"
   ]
  },
  {
   "cell_type": "code",
   "execution_count": 3,
   "metadata": {},
   "outputs": [
    {
     "data": {
      "text/plain": [
       "3"
      ]
     },
     "execution_count": 3,
     "metadata": {},
     "output_type": "execute_result"
    }
   ],
   "source": [
    "L=[1,2,3]\n",
    "L[-1]"
   ]
  },
  {
   "cell_type": "code",
   "execution_count": 4,
   "metadata": {},
   "outputs": [
    {
     "data": {
      "text/plain": [
       "['a', 's', 'd']"
      ]
     },
     "execution_count": 4,
     "metadata": {},
     "output_type": "execute_result"
    }
   ],
   "source": [
    "def parse_formula_renewed(formula):\n",
    "    L = [i for i in formula]\n",
    "    return(L)\n",
    "parse_formula_renewed(\"asd\")"
   ]
  },
  {
   "cell_type": "code",
   "execution_count": null,
   "metadata": {},
   "outputs": [],
   "source": []
  }
 ],
 "metadata": {
  "kernelspec": {
   "display_name": "Python 3",
   "language": "python",
   "name": "python3"
  },
  "language_info": {
   "codemirror_mode": {
    "name": "ipython",
    "version": 3
   },
   "file_extension": ".py",
   "mimetype": "text/x-python",
   "name": "python",
   "nbconvert_exporter": "python",
   "pygments_lexer": "ipython3",
   "version": "3.8.8"
  }
 },
 "nbformat": 4,
 "nbformat_minor": 4
}
