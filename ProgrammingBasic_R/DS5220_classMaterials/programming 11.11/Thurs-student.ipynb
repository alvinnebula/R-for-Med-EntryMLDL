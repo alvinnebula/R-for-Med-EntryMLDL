{
 "cells": [
  {
   "cell_type": "markdown",
   "metadata": {},
   "source": [
    "\n"
   ]
  },
  {
   "cell_type": "markdown",
   "metadata": {},
   "source": [
    "# Live coding assignment: Creating a Multiplication Table\n",
    "# Write a piece of code to print:\n",
    "## 1 x 1 = 1\n",
    "## 1 x 2 = 2\n",
    "## 1 x 3 = 3\n",
    "## 2 x 1 = 2\n",
    "## 2 x 2 = 4\n",
    "## 2 x 3 = 6\n",
    "## 3 x 1 = 3\n",
    "## 3 x 2 = 6\n",
    "## 3 x 3 = 9\n",
    "## Hint: For loops"
   ]
  },
  {
   "cell_type": "code",
   "execution_count": 2,
   "metadata": {},
   "outputs": [
    {
     "name": "stdout",
     "output_type": "stream",
     "text": [
      "1 x 1 = 1\n",
      "1 x 2 = 2\n",
      "1 x 3 = 3\n",
      "2 x 1 = 2\n",
      "2 x 2 = 4\n",
      "2 x 3 = 6\n",
      "3 x 1 = 3\n",
      "3 x 2 = 6\n",
      "3 x 3 = 9\n"
     ]
    }
   ],
   "source": [
    "lower = 1\n",
    "upper = 4\n",
    "\n",
    "for num1 in range(lower,upper):\n",
    "    for num2 in range(lower,upper):\n",
    "        print (str(num1) + ' x ' + str(num2) + ' = ' + str(num1*num2))"
   ]
  },
  {
   "cell_type": "markdown",
   "metadata": {},
   "source": [
    "# Using and Defining Functions\n",
    "\n",
    "#### Using functions"
   ]
  },
  {
   "cell_type": "code",
   "execution_count": null,
   "metadata": {},
   "outputs": [],
   "source": [
    "# Let's start by using functions!\n",
    "print(\"Hello, world!\")"
   ]
  },
  {
   "cell_type": "markdown",
   "metadata": {},
   "source": [
    "#### Defining functions to avoid repeatition\n",
    "\n",
    "#### Suppose you are going to send five spam emails:\n",
    "- Hi,Jesse!! Congrtualations, you won \\$1 million in the lottery!\n",
    "- Hi,John!! Congrtualations, you won \\$1 million in the lottery!\n",
    "- Hi,Nino!! Congrtualations, you won \\$1 million in the lottery!\n",
    "- Hi,Amanda!! Congrtualations, you won \\$1 million in the lottery!\n",
    "- Hi,Yilin!! Congrtualations, you won \\$1 million in the lottery!"
   ]
  },
  {
   "cell_type": "code",
   "execution_count": 21,
   "metadata": {},
   "outputs": [
    {
     "name": "stdout",
     "output_type": "stream",
     "text": [
      "Holy shit, Harry!! You are going to eat some bad bitches!\n"
     ]
    }
   ],
   "source": [
    "# Define a spam function!\n",
    "def spam(name):\n",
    "    print(\"Holy shit, \"+name+\"!! You are going to eat some bad bitches!\")\n",
    "    return None\n",
    "\n",
    "namelist = [\"Harry\"]\n",
    "for i in namelist:\n",
    "    spam(i)"
   ]
  },
  {
   "cell_type": "code",
   "execution_count": 23,
   "metadata": {},
   "outputs": [
    {
     "name": "stdout",
     "output_type": "stream",
     "text": [
      "Hi,Jesse!! Congrtualations, you won $445047 dollar in the lottery!\n",
      "Hi,John!! Congrtualations, you won $462958 dollar in the lottery!\n",
      "Hi,Nino!! Congrtualations, you won $412334 dollar in the lottery!\n",
      "Hi,Amanda!! Congrtualations, you won $303499 dollar in the lottery!\n",
      "Hi,Yilin!! Congrtualations, you won $441255 dollar in the lottery!\n"
     ]
    }
   ],
   "source": [
    "# Define a spam function with an argument to specify the lottery fund\n",
    "# Note that the random.randint() is function that generates random numbers for you\n",
    "import random\n",
    "\n",
    "def spam(name, money):\n",
    "    print(\"Hi,\"+name+\"!! Congrtualations, you won $\"+str(money)+\" dollar in the lottery!\")\n",
    "    return None\n",
    "\n",
    "namelist = [\"Jesse\", \"John\", \"Nino\", \"Amanda\", \"Yilin\"]\n",
    "for name in namelist:\n",
    "    money = random.randint(0, 1000000)\n",
    "    spam(name, money)"
   ]
  },
  {
   "cell_type": "markdown",
   "metadata": {},
   "source": [
    "# Q: What will happen if we do not specify name and money?"
   ]
  },
  {
   "cell_type": "code",
   "execution_count": 3,
   "metadata": {},
   "outputs": [
    {
     "ename": "TypeError",
     "evalue": "spam() missing 2 required positional arguments: 'name' and 'money'",
     "output_type": "error",
     "traceback": [
      "\u001b[0;31m---------------------------------------------------------------------------\u001b[0m",
      "\u001b[0;31mTypeError\u001b[0m                                 Traceback (most recent call last)",
      "\u001b[0;32m<ipython-input-3-4aaa8e686cfc>\u001b[0m in \u001b[0;36m<module>\u001b[0;34m\u001b[0m\n\u001b[1;32m      7\u001b[0m     \u001b[0;32mreturn\u001b[0m \u001b[0;32mNone\u001b[0m\u001b[0;34m\u001b[0m\u001b[0;34m\u001b[0m\u001b[0m\n\u001b[1;32m      8\u001b[0m \u001b[0;34m\u001b[0m\u001b[0m\n\u001b[0;32m----> 9\u001b[0;31m \u001b[0mspam\u001b[0m\u001b[0;34m(\u001b[0m\u001b[0;34m)\u001b[0m\u001b[0;34m\u001b[0m\u001b[0;34m\u001b[0m\u001b[0m\n\u001b[0m",
      "\u001b[0;31mTypeError\u001b[0m: spam() missing 2 required positional arguments: 'name' and 'money'"
     ]
    }
   ],
   "source": [
    "# Define a spam function with an argument to specify the lottery fund\n",
    "# Note that the random.randint() is function that generates random numbers for you\n",
    "import random\n",
    "\n",
    "def spam(name, money):\n",
    "    print(\"Hi,\"+name+\"!! Congrtualations, you won $\"+str(money)+\" dollar in the lottery!\")\n",
    "    return None\n",
    "\n",
    "spam()"
   ]
  },
  {
   "cell_type": "code",
   "execution_count": 24,
   "metadata": {},
   "outputs": [
    {
     "name": "stdout",
     "output_type": "stream",
     "text": [
      "Hi,John!! Congrtualations, you won $1 dollar in the lottery!\n",
      "Hi,Jesse!! Congrtualations, you won $30 dollar in the lottery!\n",
      "Hi,Harry!! Congrtualations, you won $240000 dollar in the lottery!\n"
     ]
    }
   ],
   "source": [
    "# To avoid missing arguments error, we might want to set default values for the function\n",
    "def spam(name=\"John\", money=\"1\"):\n",
    "    print(\"Hi,\"+name+\"!! Congrtualations, you won $\"+str(money)+\" dollar in the lottery!\")\n",
    "    return None\n",
    "\n",
    "spam()\n",
    "spam(\"Jesse\",30)\n",
    "spam(\"Harry\",240000)"
   ]
  },
  {
   "cell_type": "markdown",
   "metadata": {},
   "source": [
    "# Q: What if we have an unknown number of arguments?"
   ]
  },
  {
   "cell_type": "code",
   "execution_count": 5,
   "metadata": {},
   "outputs": [
    {
     "name": "stdout",
     "output_type": "stream",
     "text": [
      "args = (1, 2, 3, 4)\n",
      "args = (1, 2, 3, 4, 6, 7)\n"
     ]
    }
   ],
   "source": [
    "# use *arg for the function arguments, the arguments will be transformed as tuple\n",
    "def catch_all(*args):\n",
    "    print(\"args =\", args)\n",
    "\n",
    "catch_all(1, 2, 3, 4)\n",
    "catch_all(1, 2, 3, 4, 6, 7)"
   ]
  },
  {
   "cell_type": "code",
   "execution_count": 25,
   "metadata": {},
   "outputs": [
    {
     "name": "stdout",
     "output_type": "stream",
     "text": [
      "args = {'A': 1, 'B': 2, 'C': 3, 'D': 4}\n"
     ]
    }
   ],
   "source": [
    "# use **arg for the function arguments, the arguments will be transformed as dictionary\n",
    "def catch_all(**args):\n",
    "    print(\"args =\", args)\n",
    "\n",
    "catch_all(A = 1, B = 2, C = 3, D = 4)"
   ]
  },
  {
   "cell_type": "markdown",
   "metadata": {},
   "source": [
    "# Individual assignment: \n",
    "# 1. Code a function to compute the mean of 3 given floating point variables\n",
    "# Hint: 1). Use input function to accept the variables interactively\n",
    "# Hint: 2). Assign a default value to each function argument\n",
    "\n",
    "# (Optional) 2. Code a \"checker\" function to make sure the input value can be converted to a floating point number, if not, ask the user to do it again. "
   ]
  },
  {
   "cell_type": "code",
   "execution_count": 26,
   "metadata": {},
   "outputs": [
    {
     "name": "stdout",
     "output_type": "stream",
     "text": [
      "number 1:14\n",
      "number 2:23\n",
      "number 3:10\n",
      "15.666666666666666\n"
     ]
    }
   ],
   "source": [
    "def compute_mean(A = 0, B = 0, C = 0 ):\n",
    "    mean_value = (A + B + C)/3\n",
    "    print(mean_value)\n",
    "    return mean_value\n",
    "\n",
    "A = float(input(\"number 1:\"))\n",
    "B = float(input(\"number 2:\"))\n",
    "C = float(input(\"number 3:\"))\n",
    "\n",
    "M = compute_mean(A, B, C)"
   ]
  },
  {
   "cell_type": "markdown",
   "metadata": {},
   "source": [
    "## Anonymous (lambda) Functions"
   ]
  },
  {
   "cell_type": "code",
   "execution_count": 27,
   "metadata": {},
   "outputs": [
    {
     "data": {
      "text/plain": [
       "6"
      ]
     },
     "execution_count": 27,
     "metadata": {},
     "output_type": "execute_result"
    }
   ],
   "source": [
    "add = lambda x, y: x * y\n",
    "add(2, 3)"
   ]
  },
  {
   "cell_type": "markdown",
   "metadata": {},
   "source": [
    "## Practice on Coding Functions"
   ]
  },
  {
   "cell_type": "markdown",
   "metadata": {},
   "source": [
    "## Q1: Revise the following code to prepare a Python function to find the Max of three numbers (Individual)"
   ]
  },
  {
   "cell_type": "code",
   "execution_count": 28,
   "metadata": {},
   "outputs": [
    {
     "name": "stdout",
     "output_type": "stream",
     "text": [
      "15\n"
     ]
    }
   ],
   "source": [
    "a = 3\n",
    "b = 15\n",
    "c = 10\n",
    "\n",
    "if a >= b and a >= c:\n",
    "    max = a\n",
    "elif b >= c:\n",
    "    max = b\n",
    "else: \n",
    "    max = c\n",
    "print(max)"
   ]
  },
  {
   "cell_type": "code",
   "execution_count": 34,
   "metadata": {},
   "outputs": [
    {
     "name": "stdout",
     "output_type": "stream",
     "text": [
      "number 1:3\n",
      "number 2:15\n",
      "number 3:10\n",
      "The Max of three numbers is 15\n"
     ]
    }
   ],
   "source": [
    "def max_in_three(a = 0, b =0, c = 0):\n",
    "    if a >= b and a >= c:\n",
    "        return a\n",
    "    elif b >= c:\n",
    "        return b\n",
    "    else: \n",
    "        return c\n",
    "a = int(input(\"number 1:\"))\n",
    "b = int(input(\"number 2:\"))\n",
    "c = int(input(\"number 3:\"))\n",
    "\n",
    "M = max_in_three(a, b, c)\n",
    "print(\"The Max of three numbers is\",M)"
   ]
  },
  {
   "cell_type": "markdown",
   "metadata": {},
   "source": [
    "## Q2: Write a Python function that takes a list and returns a new list with unique elements of the first list\n",
    "## Sample List : [1,2,2,2,3,3,3,3,4,5,10,10,10]"
   ]
  },
  {
   "cell_type": "code",
   "execution_count": null,
   "metadata": {},
   "outputs": [],
   "source": [
    "def \n",
    "\n",
    "L_old = [1,2,2,2,3,3,3,3,4,5,10,10,10]\n",
    "L_new = [1, 2, 3, 4, 5, 10]"
   ]
  },
  {
   "cell_type": "markdown",
   "metadata": {},
   "source": [
    "## Q3: Write a Python function to reverse strings \"CH3CH2OH\", \"Hello\", and \"Beautiful\"\n",
    "## Note: the function should be able to take in any number of arguments\n",
    "## approach-1: convertion of the string to a list, reverse the list, and then concatenate the letters\n",
    "## approach-2: take letters from a string backwards and then cancatenate.  "
   ]
  },
  {
   "cell_type": "code",
   "execution_count": null,
   "metadata": {},
   "outputs": [],
   "source": [
    "# hint:\n",
    "print(\"a\"+\"b\")\n",
    "print(\"ab\"[0])\n",
    "print(len(\"ab\"))"
   ]
  },
  {
   "cell_type": "code",
   "execution_count": null,
   "metadata": {},
   "outputs": [],
   "source": [
    "def mirror(*strings):\n",
    "\n",
    "    return rstrings\n",
    "\n",
    "print(mirror(\"CH3CH3OH\", \"Hello\", \"Beautiful\"))"
   ]
  },
  {
   "cell_type": "code",
   "execution_count": 11,
   "metadata": {},
   "outputs": [
    {
     "name": "stdout",
     "output_type": "stream",
     "text": [
      "Done\n",
      "[0]\n"
     ]
    }
   ],
   "source": [
    "L = []\n",
    "for i in range(3):\n",
    "    if i == 1:\n",
    "        break\n",
    "    else: \n",
    "        L.append(i)\n",
    "    print(\"Done\")\n",
    "print(L)"
   ]
  },
  {
   "cell_type": "code",
   "execution_count": 12,
   "metadata": {},
   "outputs": [
    {
     "name": "stdout",
     "output_type": "stream",
     "text": [
      "Done\n",
      "Done\n",
      "[0, 2]\n"
     ]
    }
   ],
   "source": [
    "L = []\n",
    "for i in range(3):\n",
    "    if i == 1:\n",
    "        continue\n",
    "    else: \n",
    "        L.append(i)\n",
    "    print(\"Done\")\n",
    "print(L)"
   ]
  },
  {
   "cell_type": "code",
   "execution_count": 18,
   "metadata": {},
   "outputs": [
    {
     "name": "stdout",
     "output_type": "stream",
     "text": [
      "Done\n",
      "Done\n",
      "Done\n",
      "[0, 2]\n"
     ]
    }
   ],
   "source": [
    "L = []\n",
    "for i in range(3):\n",
    "    if i == 1:\n",
    "        pass\n",
    "    else: \n",
    "        L.append(i)\n",
    "    print(\"Done\")\n",
    "print(L)"
   ]
  },
  {
   "cell_type": "code",
   "execution_count": null,
   "metadata": {},
   "outputs": [],
   "source": []
  }
 ],
 "metadata": {
  "kernelspec": {
   "display_name": "Python 3",
   "language": "python",
   "name": "python3"
  },
  "language_info": {
   "codemirror_mode": {
    "name": "ipython",
    "version": 3
   },
   "file_extension": ".py",
   "mimetype": "text/x-python",
   "name": "python",
   "nbconvert_exporter": "python",
   "pygments_lexer": "ipython3",
   "version": "3.8.8"
  }
 },
 "nbformat": 4,
 "nbformat_minor": 4
}
