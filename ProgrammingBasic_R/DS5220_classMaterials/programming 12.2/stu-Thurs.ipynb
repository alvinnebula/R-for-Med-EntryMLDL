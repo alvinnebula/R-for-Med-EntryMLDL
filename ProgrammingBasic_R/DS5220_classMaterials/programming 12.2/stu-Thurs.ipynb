{
 "cells": [
  {
   "cell_type": "markdown",
   "metadata": {},
   "source": [
    "## Accessing specific elements, rows, columns-1:\n",
    "## Figure out the dimensionality"
   ]
  },
  {
   "cell_type": "code",
   "execution_count": 15,
   "metadata": {
    "scrolled": false
   },
   "outputs": [
    {
     "name": "stdout",
     "output_type": "stream",
     "text": [
      "[[ 1  2  3  4  5  6  7]\n",
      " [ 8  9 10 11 12 13 14]]\n",
      "2\n",
      "(2, 7)\n"
     ]
    }
   ],
   "source": [
    "# Define an array\n",
    "a = np.array([[1,2,3,4,5,6,7],[8,9,10,11,12,13,14]])\n",
    "print(a)\n",
    "print(a.ndim)\n",
    "print(a.shape)"
   ]
  },
  {
   "cell_type": "code",
   "execution_count": 16,
   "metadata": {},
   "outputs": [
    {
     "name": "stdout",
     "output_type": "stream",
     "text": [
      "13\n",
      "[1 2 3 4 5 6 7]\n",
      "[1 8]\n"
     ]
    }
   ],
   "source": [
    "# Get a specific element [r, c], in which r: row and c: column.\n",
    "print(a[1, 5])\n",
    "# Get a specific row \n",
    "print(a[0, :])\n",
    "# Get a specific column\n",
    "print(a[:, 0])"
   ]
  },
  {
   "cell_type": "code",
   "execution_count": 17,
   "metadata": {
    "scrolled": true
   },
   "outputs": [
    {
     "name": "stdout",
     "output_type": "stream",
     "text": [
      "3\n",
      "(2, 2, 2)\n",
      "4\n"
     ]
    }
   ],
   "source": [
    "# Now, let's try dealing with arrays with even higher dimensions!\n",
    "b = np.array([[[1,2],[3,4]],[[5,6],[7,8]]])\n",
    "print(b.ndim)\n",
    "print(b.shape)\n",
    "\n",
    "# Let's see the output for:\n",
    "print(b[0,1,1])"
   ]
  },
  {
   "cell_type": "code",
   "execution_count": 18,
   "metadata": {
    "scrolled": true
   },
   "outputs": [
    {
     "name": "stdout",
     "output_type": "stream",
     "text": [
      "First array\n",
      "[[[1 2]\n",
      "  [3 4]]\n",
      "\n",
      " [[5 6]\n",
      "  [7 8]]]\n",
      "Array variant-1\n",
      "[[[ 1  2]\n",
      "  [10 10]]\n",
      "\n",
      " [[ 5  6]\n",
      "  [ 7  8]]]\n",
      "Array variant-2\n",
      "[[[ 1 10]\n",
      "  [ 3 10]]\n",
      "\n",
      " [[ 5  6]\n",
      "  [ 7  8]]]\n"
     ]
    }
   ],
   "source": [
    "print(\"First array\")\n",
    "b = np.array([[[1,2],[3,4]],[[5,6],[7,8]]])\n",
    "print(b)\n",
    "\n",
    "# replacement-1: Now I want to change [3, 4] by [10,10]\n",
    "b = np.array([[[1,2],[3,4]],[[5,6],[7,8]]])\n",
    "b[0,1,:] = [10,10]\n",
    "print(\"Array variant-1\")\n",
    "print(b)\n",
    "\n",
    "# repalcement-2: change [2, 4] by 10 10\n",
    "b = np.array([[[1,2],[3,4]],[[5,6],[7,8]]])\n",
    "b[0,:,1] = [10,10]\n",
    "print(\"Array variant-2\")\n",
    "print(b)"
   ]
  },
  {
   "cell_type": "markdown",
   "metadata": {},
   "source": [
    "### Individual assignment: define an array b = np.array([[[1,2],[3,4]],[[5,6],[7,8]]])\n",
    "### Q-1: replace 5 7 by 10 10 "
   ]
  },
  {
   "cell_type": "code",
   "execution_count": null,
   "metadata": {
    "scrolled": true
   },
   "outputs": [],
   "source": [
    "b = np.array([[[1,2],[3,4]],[[5,6],[7,8]]])\n",
    "# Your code goes here:\n",
    "b[1,:,0] = [10,10]\n",
    "print(\"New array-1\")\n",
    "print(b)"
   ]
  },
  {
   "cell_type": "markdown",
   "metadata": {},
   "source": [
    "### Q-2: replace 1 3 by 10 10 "
   ]
  },
  {
   "cell_type": "code",
   "execution_count": null,
   "metadata": {
    "scrolled": false
   },
   "outputs": [],
   "source": [
    "b = np.array([[[1,2],[3,4]],[[5,6],[7,8]]])\n",
    "# Your code goes here:\n",
    "b[0,:,0] = [10,10]\n",
    "print(\"New array-2\")\n",
    "print(b)"
   ]
  },
  {
   "cell_type": "markdown",
   "metadata": {},
   "source": [
    "## Accessing specific elements, rows, columns-2:\n",
    "## Use logical operation\n",
    "### Example: find all the odd number in an array."
   ]
  },
  {
   "cell_type": "code",
   "execution_count": 2,
   "metadata": {},
   "outputs": [
    {
     "name": "stdout",
     "output_type": "stream",
     "text": [
      "[1 3 5 7 9]\n",
      "[False  True False  True False  True False  True False  True False]\n",
      "The sliced numpy array is: [1 3 5 7 9]\n"
     ]
    }
   ],
   "source": [
    "import numpy as np\n",
    "# The entire operation can be expressed using one line of code:\n",
    "a = np.array([0, 1, 2, 3, 4, 5, 6, 7, 8, 9, 10])\n",
    "print(a[ a%2 == 1 ])\n",
    "\n",
    "# Using array:\n",
    "a = np.array([0, 1, 2, 3, 4, 5, 6, 7, 8, 9, 10])\n",
    "t = (a % 2 == 1)\n",
    "print(t)\n",
    "print(\"The sliced numpy array is:\", a[t])\n",
    "\n",
    "# Question: How to achieve the same goal by using List comprehension?"
   ]
  },
  {
   "cell_type": "markdown",
   "metadata": {},
   "source": [
    "### Individual assignment: Extract the numbers that are divisible by 3 from the following numpy array arr = np.array([0, 2, 3, 4, 5, 6, 8, 9, 13, 19])"
   ]
  },
  {
   "cell_type": "code",
   "execution_count": 3,
   "metadata": {},
   "outputs": [
    {
     "name": "stdout",
     "output_type": "stream",
     "text": [
      "[0 3 6 9]\n"
     ]
    }
   ],
   "source": [
    "arr = np.array([0, 2, 3, 4, 5, 6, 8, 9, 13, 20])\n",
    "# Your code goes here:\n",
    "print(a[ a%3 == 0 ])"
   ]
  },
  {
   "cell_type": "markdown",
   "metadata": {},
   "source": [
    "### Individual assignment: following is the given numpy array return array of odd rows and even columns A = numpy.array([[3 ,6, 9, 12], [15 ,18, 21, 24], \n",
    "### [27 ,30, 33, 36], [39 ,42, 45, 48], [51 ,54, 57, 60]])\n",
    "### ``Q1``: Printing array of the third row?\n",
    "### [27 30 33 36]\n",
    "### ``Q2``: Printing array of the last column?\n",
    "### [12 24 36 48 60]\n",
    "### ``Q3``: Printing the odd numbers of the array?\n",
    "### [ 3  9 15 21 27 33 39 45 51 57]\n"
   ]
  },
  {
   "cell_type": "code",
   "execution_count": 7,
   "metadata": {},
   "outputs": [
    {
     "name": "stdout",
     "output_type": "stream",
     "text": [
      "[27 30 33 36]\n",
      "[27 30 33 36]\n",
      "[12 24 36 48 60]\n",
      "[12 24 36 48 60]\n",
      "[ 3  9 15 21 27 33 39 45 51 57]\n"
     ]
    }
   ],
   "source": [
    "import numpy as np\n",
    "A = np.array([[3 ,6, 9, 12], [15 ,18, 21, 24],[27 ,30, 33, 36], [39 ,42, 45, 48], [51 ,54, 57, 60]])\n",
    "# Your code for Q1\n",
    "print(A[2])\n",
    "print(A[2, :])\n",
    "# Your code for Q2\n",
    "print(A[:,-1])\n",
    "print(A[:,-1])\n",
    "# Your code for Q3\n",
    "print(A[A%2 == 1])"
   ]
  },
  {
   "cell_type": "markdown",
   "metadata": {},
   "source": [
    "## Numpy\n",
    "- ## Array initiation\n",
    "- ## Array mathematics: statistics, linear algebra, and Arithmetic \n",
    "- ## Array organization\n"
   ]
  },
  {
   "cell_type": "markdown",
   "metadata": {},
   "source": [
    "### Array Initiation"
   ]
  },
  {
   "cell_type": "code",
   "execution_count": 8,
   "metadata": {},
   "outputs": [
    {
     "name": "stdout",
     "output_type": "stream",
     "text": [
      "[[0. 0. 0.]\n",
      " [0. 0. 0.]]\n"
     ]
    }
   ],
   "source": [
    "# All 0s matrix\n",
    "print(np.zeros((2,3)))"
   ]
  },
  {
   "cell_type": "code",
   "execution_count": null,
   "metadata": {},
   "outputs": [],
   "source": [
    "# All 1s matrix\n",
    "print(np.ones((4,2,2)))"
   ]
  },
  {
   "cell_type": "code",
   "execution_count": null,
   "metadata": {},
   "outputs": [],
   "source": [
    "# Any other number\n",
    "np.full((4,2,2),99)"
   ]
  },
  {
   "cell_type": "code",
   "execution_count": null,
   "metadata": {},
   "outputs": [],
   "source": [
    "# Any other number (full_like)\n",
    "a = np.array([1,2,3,4,5]) \n",
    "np.full_like(a, 4)"
   ]
  },
  {
   "cell_type": "code",
   "execution_count": null,
   "metadata": {},
   "outputs": [],
   "source": [
    "# Random floating point numbers\n",
    "np.random.rand(4,2)"
   ]
  },
  {
   "cell_type": "code",
   "execution_count": null,
   "metadata": {},
   "outputs": [],
   "source": [
    "# Random Integer values\n",
    "np.random.randint(-4,8, size=(3,3))"
   ]
  },
  {
   "cell_type": "code",
   "execution_count": null,
   "metadata": {},
   "outputs": [],
   "source": [
    "# Coping array: need to be very careful!\n",
    "# Case-1\n",
    "a = np.array([1,2,3])\n",
    "b = a # let's see what will happen!\n",
    "b[0] = 100\n",
    "print(\"With b = a\", a)\n",
    "\n",
    "# Case-2\n",
    "a = np.array([1,2,3])\n",
    "b = a.copy() \n",
    "b[0] = 100\n",
    "print(a)"
   ]
  },
  {
   "cell_type": "markdown",
   "metadata": {},
   "source": [
    "### Arithmetic"
   ]
  },
  {
   "cell_type": "code",
   "execution_count": null,
   "metadata": {},
   "outputs": [],
   "source": [
    "a = np.array([1,2,3,4])\n",
    "print(a + 2)\n",
    "print(a - 2)\n",
    "print(a * 2)\n",
    "print(a / 2)\n",
    "print(a ** 2)"
   ]
  },
  {
   "cell_type": "code",
   "execution_count": null,
   "metadata": {},
   "outputs": [],
   "source": [
    "a = np.array([1,2,3,4])\n",
    "b = np.array([1,0,1,0])\n",
    "print(a + b)\n",
    "print(a*b)"
   ]
  },
  {
   "cell_type": "code",
   "execution_count": null,
   "metadata": {},
   "outputs": [],
   "source": [
    "np.cos(a)"
   ]
  },
  {
   "cell_type": "markdown",
   "metadata": {},
   "source": [
    "### Linear Algebra"
   ]
  },
  {
   "cell_type": "code",
   "execution_count": null,
   "metadata": {},
   "outputs": [],
   "source": [
    "a = np.ones((2,3))\n",
    "print(a)\n",
    "\n",
    "b = np.full((3,2), 2)\n",
    "print(b)\n",
    "\n",
    "np.matmul(a,b)"
   ]
  },
  {
   "cell_type": "code",
   "execution_count": null,
   "metadata": {},
   "outputs": [],
   "source": [
    "# Find the determinant\n",
    "c = np.identity(3)\n",
    "np.linalg.det(c)"
   ]
  },
  {
   "cell_type": "code",
   "execution_count": null,
   "metadata": {},
   "outputs": [],
   "source": [
    "# Find the inverse matrix\n",
    "d = np.array([[ 4,  4, -1], [-2, -3,  5], [ 7, -2,  7]])\n",
    "d_inv = np.linalg.inv(d)\n",
    "unit = np.matmul(d,d_inv)\n",
    "print(unit)\n",
    "np.around(unit)"
   ]
  },
  {
   "cell_type": "code",
   "execution_count": 11,
   "metadata": {},
   "outputs": [
    {
     "name": "stdout",
     "output_type": "stream",
     "text": [
      "[[ 4  4 -1]\n",
      " [-2 -3  5]\n",
      " [ 7 -2  7]]\n",
      "[[ 4 -2  7]\n",
      " [ 4 -3 -2]\n",
      " [-1  5  7]]\n"
     ]
    }
   ],
   "source": [
    "# Perform transpose\n",
    "d = np.array([[ 4,  4, -1], [-2, -3,  5], [ 7, -2,  7]])\n",
    "print(d)\n",
    "d_tp = np.transpose(d)\n",
    "print(d_tp)"
   ]
  },
  {
   "cell_type": "markdown",
   "metadata": {},
   "source": [
    "### Statistics"
   ]
  },
  {
   "cell_type": "markdown",
   "metadata": {},
   "source": [
    "### Q: What will be the output?\n",
    "### stats = np.array([[1,2,3],[4,5,6]])\n",
    "### print(np.max(stats, axis=0))"
   ]
  },
  {
   "cell_type": "code",
   "execution_count": 10,
   "metadata": {},
   "outputs": [
    {
     "name": "stdout",
     "output_type": "stream",
     "text": [
      "[[1 2 3]\n",
      " [4 5 6]]\n",
      "[4 5 6]\n",
      "[3 6]\n",
      "[5 7 9]\n",
      "[2.5 3.5 4.5]\n"
     ]
    }
   ],
   "source": [
    "stats = np.array([[1,2,3],[4,5,6]])\n",
    "print(stats)\n",
    "#print(np.min(stats))\n",
    "print(np.max(stats, axis=0))\n",
    "print(np.max(stats, axis=1))\n",
    "print(np.sum(stats, axis=0))\n",
    "print(np.mean(stats, axis=0))"
   ]
  },
  {
   "cell_type": "markdown",
   "metadata": {},
   "source": [
    "### individual assignment: Vectorize your equation.\n",
    "### From Newtonian Equation of Motion, we learned that F = Ma. \n",
    "\n",
    "### In this equation, ``M`` refers to mass and ``a`` refers to acceleration. M=[2,2,2,4,4,4,7,7]; a=[1,2,3,4,5,6,7,8]; \n",
    "\n",
    "### Compute the outcome of the force of the system, which is defined as F = ΣiMi*ai"
   ]
  },
  {
   "cell_type": "code",
   "execution_count": 9,
   "metadata": {
    "scrolled": true
   },
   "outputs": [
    {
     "ename": "IndentationError",
     "evalue": "expected an indented block (<ipython-input-9-7bb7cd84ed82>, line 10)",
     "output_type": "error",
     "traceback": [
      "\u001b[0;36m  File \u001b[0;32m\"<ipython-input-9-7bb7cd84ed82>\"\u001b[0;36m, line \u001b[0;32m10\u001b[0m\n\u001b[0;31m    else:\u001b[0m\n\u001b[0m    ^\u001b[0m\n\u001b[0;31mIndentationError\u001b[0m\u001b[0;31m:\u001b[0m expected an indented block\n"
     ]
    }
   ],
   "source": [
    "# Using For loop:\n",
    "\n",
    "M = [2,2,2,4,4,4,7,7]\n",
    "\n",
    "a = [1,2,3,4,5,6,7,8]\n",
    "\n",
    "if len(M) == len(a):\n",
    "# Your code goes here:\n",
    "    \n",
    "else:\n",
    "    print(\"Mismatch in the length of M and a\")"
   ]
  },
  {
   "cell_type": "code",
   "execution_count": 37,
   "metadata": {},
   "outputs": [
    {
     "name": "stdout",
     "output_type": "stream",
     "text": [
      "177\n"
     ]
    }
   ],
   "source": [
    "# Using Numpy loop:\n",
    "import numpy as np\n",
    "\n",
    "M = np.array([2,2,2,4,4,4,7,7])\n",
    "\n",
    "a = np.array([1,2,3,4,5,6,7,8])\n",
    "\n",
    "# Your code goes here:\n"
   ]
  },
  {
   "cell_type": "markdown",
   "metadata": {},
   "source": [
    "### Timing the code"
   ]
  },
  {
   "cell_type": "code",
   "execution_count": null,
   "metadata": {},
   "outputs": [],
   "source": [
    "import time\n",
    "\n",
    "# Using For loop:\n",
    "t0 = time.time()\n",
    "\n",
    "M = [2,2,2,4,4,4,7,7]\n",
    "a = [1,2,3,4,5,6,7,8]\n",
    "if len(M) == len(a):\n",
    "    F = [M[i]*a[i] for i in range(len(M))]\n",
    "    print(sum(F))\n",
    "else:\n",
    "    print(\"Mismatch in the length of M and a\")\n",
    "\n",
    "t1 = time.time()\n",
    "print(\"Using for loop\", t1-t0)\n",
    "\n",
    "# Using For loop:\n",
    "t0 = time.time()\n",
    "\n",
    "M = np.array([2,2,2,4,4,4,7,7])\n",
    "a = np.array([1,2,3,4,5,6,7,8])\n",
    "print(np.sum(M*a, axis = 0))\n",
    "\n",
    "t1 = time.time()\n",
    "print(\"Using numpy\", t1-t0)"
   ]
  },
  {
   "cell_type": "markdown",
   "metadata": {},
   "source": [
    "### Reorganizing arrays\n",
    "- ### Flatten\n",
    "- ### Reshape"
   ]
  },
  {
   "cell_type": "code",
   "execution_count": 21,
   "metadata": {},
   "outputs": [
    {
     "name": "stdout",
     "output_type": "stream",
     "text": [
      "[[1 2 3 4]\n",
      " [5 6 7 8]]\n",
      "[1 2 3 4 5 6 7 8]\n"
     ]
    }
   ],
   "source": [
    "# flatten\n",
    "before = np.array([[1,2,3,4],[5,6,7,8]])\n",
    "print(before)\n",
    "after = before.flatten()\n",
    "print(after)"
   ]
  },
  {
   "cell_type": "code",
   "execution_count": null,
   "metadata": {},
   "outputs": [],
   "source": [
    "# Reshape\n",
    "before = np.array([[1,2,3,4],[5,6,7,8]])\n",
    "print(before)\n",
    "\n",
    "after = before.reshape((4,2))\n",
    "print(after)"
   ]
  },
  {
   "cell_type": "markdown",
   "metadata": {},
   "source": [
    "## Q1: Replace all odd numbers in arr with -1 without changing arr\n",
    "## arr = np.array([0, 1, 2, 3, 4, 5, 6, 7, 8, 9])\n",
    "## output array: [ 0 -1  2 -1  4 -1  6 -1  8 -1]"
   ]
  },
  {
   "cell_type": "code",
   "execution_count": 23,
   "metadata": {
    "scrolled": true
   },
   "outputs": [
    {
     "name": "stdout",
     "output_type": "stream",
     "text": [
      "[ 0 -1  2 -1  4 -1  6 -1  8 -1]\n"
     ]
    }
   ],
   "source": [
    "# Q1: replacing odd number by -1\n",
    "import numpy as np\n",
    "arr = np.array([0, 1, 2, 3, 4, 5, 6, 7, 8, 9])\n",
    "#Your code goes here\n"
   ]
  },
  {
   "cell_type": "markdown",
   "metadata": {},
   "source": [
    "## Q2: Here is a numpy array:\n",
    "## A= [[2, 7, 8, 2, 0, 7],\n",
    "##       [2, 9, 0, 3, 4, 6],\n",
    "##       [1, 9, 9, 8, 8, 4],\n",
    "##       [2, 4, 1, 5, 3, 2]]\n",
    "## Compute the mean value for each column"
   ]
  },
  {
   "cell_type": "code",
   "execution_count": null,
   "metadata": {},
   "outputs": [],
   "source": [
    "# Q2: Compute the average for each column\n",
    "A = np.array([[2, 7, 8, 2, 0, 7],\n",
    "       [2, 9, 0, 3, 4, 6],\n",
    "       [1, 9, 9, 8, 8, 4],\n",
    "       [2, 4, 1, 5, 3, 2]])\n",
    "# Your code goes here:\n"
   ]
  },
  {
   "cell_type": "markdown",
   "metadata": {},
   "source": [
    "## Q3: Here is a numpy array:\n",
    "## A= [[2, 7, 8, 2, 0, 7],\n",
    "##       [2, 9, 0, 3, 4, 6],\n",
    "##       [1, 9, 9, 8, 8, 4],\n",
    "##       [2, 4, 1, 5, 3, 2]]\n",
    "## Print the maximum value for each row"
   ]
  },
  {
   "cell_type": "code",
   "execution_count": null,
   "metadata": {},
   "outputs": [],
   "source": [
    "# Q3: Compute the average for each row\n",
    "A = np.array([[2, 7, 8, 2, 0, 7],\n",
    "       [2, 9, 0, 3, 4, 6],\n",
    "       [1, 9, 9, 8, 8, 4],\n",
    "       [2, 4, 1, 5, 3, 2]])\n",
    "# Your code goes here:\n"
   ]
  }
 ],
 "metadata": {
  "kernelspec": {
   "display_name": "Python 3",
   "language": "python",
   "name": "python3"
  },
  "language_info": {
   "codemirror_mode": {
    "name": "ipython",
    "version": 3
   },
   "file_extension": ".py",
   "mimetype": "text/x-python",
   "name": "python",
   "nbconvert_exporter": "python",
   "pygments_lexer": "ipython3",
   "version": "3.8.8"
  }
 },
 "nbformat": 4,
 "nbformat_minor": 4
}
