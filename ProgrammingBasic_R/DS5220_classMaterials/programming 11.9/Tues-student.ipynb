{
 "cells": [
  {
   "cell_type": "markdown",
   "metadata": {},
   "source": [
    "## Build a Game: Lucky number!\n",
    "## Individual assignment: Complete the following code\n",
    "## Section-1. First build a list to contain 50 random integers ranging from 0 to 100. Hint: loop\n",
    "## Section-2. Input an integer and check if the input string contains numberics only. Hint: isnumeric()\n",
    "## Section-3. Check to see if the input integer is a member of the list of random numbers. "
   ]
  },
  {
   "cell_type": "code",
   "execution_count": 19,
   "metadata": {
    "scrolled": false
   },
   "outputs": [
    {
     "name": "stdout",
     "output_type": "stream",
     "text": [
      "A is a list storing 50 random numbers between 0 and 99\n",
      "Pure guess – give me an integer between 0 and 99! \n",
      "xcxz\n",
      "B is not numeric\n",
      "Bad guess!\n"
     ]
    }
   ],
   "source": [
    "import random\n",
    "\n",
    "#Section-1 Hint: for loop\n",
    "Num = 50\n",
    "A = [random.randint(0,100) for i in range(Num)]\n",
    "if len(A) == Num: \n",
    "    print(\"A is a list storing \" + str(Num) + \" random numbers between 0 and 99\")\n",
    "else:\n",
    "    print(\"A contains no elements\")\n",
    "\n",
    "#Section-2 Hint: if-else + isnumeric() \n",
    "B = input(\"Pure guess – give me an integer between 0 and 99! \\n\")\n",
    "if B.isnumeric():\n",
    "    B = int(B)\n",
    "else: \n",
    "    print(\"B is not numeric\")    \n",
    "\n",
    "#Section-3 Hint: if-else\n",
    "if B in A: \n",
    "    print(\"Good guess!\")\n",
    "else: print(\"Bad guess!\")"
   ]
  },
  {
   "cell_type": "markdown",
   "metadata": {},
   "source": [
    "# ``while`` loops: useful when you know the termination criteria but not the number of iterations that get you there."
   ]
  },
  {
   "cell_type": "code",
   "execution_count": null,
   "metadata": {},
   "outputs": [],
   "source": [
    "i = 0\n",
    "while i < 10.1:\n",
    "    print(i)\n",
    "    i = i + 0.3 "
   ]
  },
  {
   "cell_type": "code",
   "execution_count": null,
   "metadata": {},
   "outputs": [],
   "source": [
    "# Another example!\n",
    "\n",
    "i = input(\"Please input an integer!\") \n",
    "while not i.isnumeric():\n",
    "    i = input(\"Sorry, this is not an integer. Try again!\")\n",
    "print(\"The integer you provide is \", i)"
   ]
  },
  {
   "cell_type": "markdown",
   "metadata": {},
   "source": [
    "# ``continue``, ``break``, and ``pass``"
   ]
  },
  {
   "cell_type": "code",
   "execution_count": 18,
   "metadata": {},
   "outputs": [
    {
     "name": "stdout",
     "output_type": "stream",
     "text": [
      "b \n",
      "e \n",
      "a \n",
      "k \n",
      "end\n"
     ]
    }
   ],
   "source": [
    "for val in \"break\":\n",
    "    if val == \"r\":\n",
    "        continue\n",
    "        print(\"r is gone!\")\n",
    "    print(val, end = ' \\n')\n",
    "print(\"end\")\n",
    "#The continue statement in Python returns the control to the beginning of the while loop"
   ]
  },
  {
   "cell_type": "code",
   "execution_count": null,
   "metadata": {},
   "outputs": [],
   "source": [
    "for val in \"break\":\n",
    "    if val == \"r\":\n",
    "        break\n",
    "        print(\"r is gone!\")\n",
    "    print(val, end = ' \\n')\n",
    "print(\"end\")\n",
    "#break statement stops the loop in which the statement is placed"
   ]
  },
  {
   "cell_type": "code",
   "execution_count": null,
   "metadata": {},
   "outputs": [],
   "source": [
    "for val in \"break\":\n",
    "    if val == \"r\":\n",
    "        pass\n",
    "        print(\"r is gone!\\n\")\n",
    "    print(val, end = ' \\n')\n",
    "print(\"end\")\n",
    "#The interpreter does not ignore a pass statement, \n",
    "#but nothing happens and the statement results into no operation. \n",
    "#The pass statement is useful when you don't write the implementation of a function,\n",
    "#but you want to implement it in the future."
   ]
  },
  {
   "cell_type": "markdown",
   "metadata": {},
   "source": []
  },
  {
   "cell_type": "markdown",
   "metadata": {},
   "source": [
    "## Build a Game: Lucky number!\n",
    "## Individual assignment: make the code more functional!\n",
    "## Target: Integrate while loop and selection flow to allow a user to continuously input integers until they reach a good guess!\n"
   ]
  },
  {
   "cell_type": "code",
   "execution_count": 18,
   "metadata": {},
   "outputs": [
    {
     "name": "stdout",
     "output_type": "stream",
     "text": [
      "[76, 94, 29, 18, 7, 40, 7, 57, 55, 19, 69, 100, 61, 95, 80, 87, 47, 22, 64, 70, 79, 90, 56, 63, 27, 0, 58, 44, 45, 25, 97, 65, 6, 87, 6, 89, 96, 22, 81, 14, 39, 36, 24, 44, 71, 39, 77, 72, 81, 72]\n",
      "A is a list containing 50 random numbers between 0 and 99\n",
      "Pure guess – give me an integer between 0 and 99! \n",
      "86\n",
      "The integer you in put is 86\n",
      "Bad guess, please give me another integer between 0 and 99!!\n",
      "\n",
      "Pure guess – give me an integer between 0 and 99! \n",
      "88\n",
      "The integer you in put is 88\n",
      "Bad guess, please give me another integer between 0 and 99!!\n",
      "\n",
      "Pure guess – give me an integer between 0 and 99! \n",
      "90\n",
      "The integer you in put is 90\n",
      "Good guess!\n"
     ]
    }
   ],
   "source": [
    "import random\n",
    "\n",
    "Num = 50 \n",
    "A = [random.randint(0,100) for i in range(Num)]\n",
    "if len(A) == Num: \n",
    "    print(A)\n",
    "    print(\"A is a list containing \" + str(Num) + \" random numbers between 0 and 99\")\n",
    "else:\n",
    "    print(\"A contains no elements\")\n",
    "\n",
    "while True:\n",
    "    B = input(\"Pure guess – give me an integer between 0 and 99! \\n\")\n",
    "    while not B.isnumeric():\n",
    "        B = input(\"The input is not an integer! Try again \\n\")\n",
    "    B = int (B)\n",
    "    print(\"The integer you in put is\",B)\n",
    "    \n",
    "    if B in A: \n",
    "        print(\"Good guess!\")\n",
    "        break\n",
    "    else: print(\"Bad guess, please give me another integer between 0 and 99!!\\n\")\n",
    "\n",
    "\n",
    "\n",
    "    \n",
    "    \n",
    "    # Use while loop to allow a user to continuously input integers until they reach a good guess:\n",
    "    \n",
    "    # Task-1: Let a user continuously provide an input value until the input value is determined to be an integer.\n",
    "    # Hint: B.isnumeric() will return True if B is a string that can be converted to an integer.\n",
    "    # Task-2: Determine if B is a member of list A. If YES, tell the user so and break from the while loop. If NO, \n",
    "    # tell the user so. \n",
    "\n",
    "    \n",
    "    \n",
    " \n",
    "    "
   ]
  },
  {
   "cell_type": "markdown",
   "metadata": {},
   "source": [
    "# Live coding assignment: Creating a Multiplication Table\n",
    "# Write a piece of code to print:\n",
    "## 1 x 1 = 1\n",
    "## 1 x 2 = 2\n",
    "## 1 x 3 = 3\n",
    "## 2 x 1 = 2\n",
    "## 2 x 2 = 4\n",
    "## 2 x 3 = 6\n",
    "## 3 x 1 = 3\n",
    "## 3 x 2 = 6\n",
    "## 3 x 3 = 9\n",
    "## Hint: For loops"
   ]
  },
  {
   "cell_type": "code",
   "execution_count": null,
   "metadata": {},
   "outputs": [],
   "source": [
    "lower = 1\n",
    "upper = 4\n",
    "\n",
    "# Using for loop to print the multiplication Table.\n",
    "\n",
    "\n",
    "\n",
    "\n"
   ]
  },
  {
   "cell_type": "code",
   "execution_count": null,
   "metadata": {},
   "outputs": [],
   "source": []
  },
  {
   "cell_type": "markdown",
   "metadata": {},
   "source": [
    "# Using and Defining Functions\n",
    "\n",
    "#### Using functions"
   ]
  },
  {
   "cell_type": "code",
   "execution_count": null,
   "metadata": {},
   "outputs": [],
   "source": [
    "# Let's start by using functions!\n",
    "print(\"Hello, world!\")"
   ]
  },
  {
   "cell_type": "markdown",
   "metadata": {},
   "source": [
    "#### Defining functions to avoid repeatition\n",
    "\n",
    "#### Suppose you are going to send five spam emails:\n",
    "- Hi,Jesse!! Congrtualations, you won \\$1 million in the lottery!\n",
    "- Hi,John!! Congrtualations, you won \\$1 million in the lottery!\n",
    "- Hi,Nino!! Congrtualations, you won \\$1 million in the lottery!\n",
    "- Hi,Amanda!! Congrtualations, you won \\$1 million in the lottery!\n",
    "- Hi,Yilin!! Congrtualations, you won \\$1 million in the lottery!"
   ]
  },
  {
   "cell_type": "code",
   "execution_count": null,
   "metadata": {},
   "outputs": [],
   "source": [
    "# Define a spam function!\n",
    "def spam(name):\n",
    "    print(\"Hi,\"+name+\"!! Congrtualations, you won $1 million in the lottery!\")\n",
    "    return None\n",
    "\n",
    "namelist = [\"Jesse\", \"John\", \"Nino\", \"Amanda\", \"Yilin\"]\n",
    "for i in namelist:\n",
    "    spam(i)"
   ]
  },
  {
   "cell_type": "code",
   "execution_count": null,
   "metadata": {},
   "outputs": [],
   "source": [
    "# Define a spam function with an argument to specify the lottery fund\n",
    "# Note that the random.randint() is function that generates random numbers for you\n",
    "import random\n",
    "\n",
    "def spam(name, money):\n",
    "    print(\"Hi,\"+name+\"!! Congrtualations, you won $\"+str(money)+\" dollar in the lottery!\")\n",
    "    return None\n",
    "\n",
    "namelist = [\"Jesse\", \"John\", \"Nino\", \"Amanda\", \"Yilin\"]\n",
    "for name in namelist:\n",
    "    money = random.randint(0, 1000000)\n",
    "    spam(name, money)"
   ]
  },
  {
   "cell_type": "code",
   "execution_count": 6,
   "metadata": {},
   "outputs": [
    {
     "name": "stdout",
     "output_type": "stream",
     "text": [
      "50\n",
      "[50]\n"
     ]
    }
   ],
   "source": [
    "a = 100\n",
    "b = 50\n",
    "m = None\n",
    "if a >= b:\n",
    "   m = b\n",
    "else:\n",
    "   m = a\n",
    "print(m)\n",
    "\n",
    "a = 100\n",
    "b = 50\n",
    "m =[]\n",
    "if a >= b:\n",
    "    m.append(b)\n",
    "else:\n",
    "    m.append(a)\n",
    "print(m)"
   ]
  },
  {
   "cell_type": "code",
   "execution_count": 11,
   "metadata": {},
   "outputs": [
    {
     "name": "stdout",
     "output_type": "stream",
     "text": [
      "[50, 51, 52, 53, 54, 55, 56, 57, 58, 59, 60, 61, 62, 63, 64, 65, 66, 67, 68, 69, 70, 71, 72, 73, 74, 75, 76, 77, 78, 79, 80, 81, 82, 83, 84, 85, 86, 87, 88, 89, 90, 91, 92, 93, 94, 95, 96, 97, 98, 99, 100]\n",
      "[50, 51, 52, 53, 54, 55, 56, 57, 58, 59, 60, 61, 62, 63, 64, 65, 66, 67, 68, 69, 70, 71, 72, 73, 74, 75, 76, 77, 78, 79, 80, 81, 82, 83, 84, 85, 86, 87, 88, 89, 90, 91, 92, 93, 94, 95, 96, 97, 98, 99, 100]\n"
     ]
    }
   ],
   "source": [
    "L =[]\n",
    "for i in range(50,101):\n",
    "   L.append(i)\n",
    "print(L)\n",
    "\n",
    "L = [i for i in range(50,101)]\n",
    "print(L)"
   ]
  },
  {
   "cell_type": "code",
   "execution_count": null,
   "metadata": {},
   "outputs": [],
   "source": []
  }
 ],
 "metadata": {
  "kernelspec": {
   "display_name": "Python 3",
   "language": "python",
   "name": "python3"
  },
  "language_info": {
   "codemirror_mode": {
    "name": "ipython",
    "version": 3
   },
   "file_extension": ".py",
   "mimetype": "text/x-python",
   "name": "python",
   "nbconvert_exporter": "python",
   "pygments_lexer": "ipython3",
   "version": "3.8.8"
  }
 },
 "nbformat": 4,
 "nbformat_minor": 4
}
