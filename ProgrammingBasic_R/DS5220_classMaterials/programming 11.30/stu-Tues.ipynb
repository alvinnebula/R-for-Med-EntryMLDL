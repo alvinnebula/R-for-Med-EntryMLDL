{
 "cells": [
  {
   "cell_type": "markdown",
   "metadata": {},
   "source": [
    "## Individual assignment (string manipulation and I/O File operation):\n",
    "## How long is a CO2 molecule? Design an atomic ruler. \n",
    "## In the file CO2.txt, you will find the structual information (Cartesian cooridnates) about CO2 molecule. You will use the coordinates to estimate the length of the CO2 molecule, which is defined as the distance between two oxygen atoms. \n",
    "## Below, you will complete the code for an atomic ruler. "
   ]
  },
  {
   "cell_type": "code",
   "execution_count": 1,
   "metadata": {},
   "outputs": [],
   "source": [
    "import math\n",
    "\n",
    "def distance(x,y):\n",
    "    return math.sqrt((x[0]-y[0])**2+(x[1]-y[1])**2+(x[2]-y[2])**2)\n",
    "\n",
    "# Open the file CO2.txt\n",
    "\n",
    "CO2 = open('CO2.txt','r')\n",
    "lines_CO2 = CO2.readlines()\n",
    "\n",
    "# Define a dictionary for C, O1, and O2\n",
    "D = {}\n",
    "for i in range(len(lines_CO2)):\n",
    "    if len(lines_CO2[i].split()) == 4:\n",
    "        D[lines_CO2[i].split()[0]] = [float(lines_CO2[i].split()[1]), float(lines_CO2[i].split()[2]), float(lines_CO2[i].split()[3])]\n",
    "\n",
    "# Get the distance between O1 and O2\n",
    "\n",
    "O1_O2 = distance(D['O1'],D['O2']) \n",
    "\n",
    "# Write the results to a new file O1_O2.txt, saying \"The length of is CO2 molecule is XXX angstrom.\"\n",
    "\n",
    "CO2_distance = open('O1_O2.txt','w')\n",
    "CO2_distance.write(\"The length of is CO2 molecule is \" + str(O1_O2) + \" angstrom\")\n",
    "CO2_distance.close()"
   ]
  },
  {
   "cell_type": "markdown",
   "metadata": {},
   "source": [
    "# Modules and Packages\n",
    "## Loading modules:\n",
    "## - ``import`` \n",
    "## - ``import ... as ... ``\n",
    "## - ``from ... import ...``"
   ]
  },
  {
   "cell_type": "code",
   "execution_count": 2,
   "metadata": {},
   "outputs": [
    {
     "name": "stdout",
     "output_type": "stream",
     "text": [
      "0.0\n",
      "1.0\n"
     ]
    }
   ],
   "source": [
    "# import function allows you to call \n",
    "import math\n",
    "print(math.sin(0))\n",
    "print(math.cos(0))"
   ]
  },
  {
   "cell_type": "code",
   "execution_count": 4,
   "metadata": {},
   "outputs": [
    {
     "name": "stdout",
     "output_type": "stream",
     "text": [
      "0.0\n",
      "1.0\n"
     ]
    }
   ],
   "source": [
    "# import as allows you to rename \n",
    "import math as alvin\n",
    "print(alvin.sin(0))\n",
    "print(alvin.cos(0))"
   ]
  },
  {
   "cell_type": "code",
   "execution_count": 7,
   "metadata": {},
   "outputs": [
    {
     "name": "stdout",
     "output_type": "stream",
     "text": [
      "0.0\n",
      "1.0\n"
     ]
    }
   ],
   "source": [
    "# from import: explicit import of module contents \n",
    "from math import sin, cos\n",
    "print(sin(0))\n",
    "print(cos(0))\n",
    "\n",
    "# Question: Under this circumstance, what would you expect by running math.sin(0) ?\n",
    "# A. 0\n",
    "# B. Name error"
   ]
  },
  {
   "cell_type": "markdown",
   "metadata": {},
   "source": [
    "## Importing from Python's Standard Library\n",
    "- ``os`` and ``sys``: Tools for interfacing with the operating system, including navigating file directory structures and executing shell commands\n",
    "- ``math``: Mathematical functions and operations on real and complex numbers\n",
    "- ``itertools``: Tools for constructing and interacting with iterators and generators\n",
    "- ``random``: Tools for generating pseudorandom numbers"
   ]
  },
  {
   "cell_type": "code",
   "execution_count": 8,
   "metadata": {},
   "outputs": [
    {
     "data": {
      "text/plain": [
       "0"
      ]
     },
     "execution_count": 8,
     "metadata": {},
     "output_type": "execute_result"
    }
   ],
   "source": [
    "# OS: interface to operating systems\n",
    "# https://docs.python.org/3/library/os.html\n",
    "import os\n",
    "#os.getcwd()\n",
    "os.system(\"mkdir test\")\n",
    "os.system(\"touch test.txt\")"
   ]
  },
  {
   "cell_type": "code",
   "execution_count": 10,
   "metadata": {},
   "outputs": [
    {
     "name": "stdout",
     "output_type": "stream",
     "text": [
      "('a', 'b', 'c', 'd')\n",
      "('a', 'b', 'd', 'c')\n",
      "('a', 'c', 'b', 'd')\n",
      "('a', 'c', 'd', 'b')\n",
      "('a', 'd', 'b', 'c')\n",
      "('a', 'd', 'c', 'b')\n",
      "('b', 'a', 'c', 'd')\n",
      "('b', 'a', 'd', 'c')\n",
      "('b', 'c', 'a', 'd')\n",
      "('b', 'c', 'd', 'a')\n",
      "('b', 'd', 'a', 'c')\n",
      "('b', 'd', 'c', 'a')\n",
      "('c', 'a', 'b', 'd')\n",
      "('c', 'a', 'd', 'b')\n",
      "('c', 'b', 'a', 'd')\n",
      "('c', 'b', 'd', 'a')\n",
      "('c', 'd', 'a', 'b')\n",
      "('c', 'd', 'b', 'a')\n",
      "('d', 'a', 'b', 'c')\n",
      "('d', 'a', 'c', 'b')\n",
      "('d', 'b', 'a', 'c')\n",
      "('d', 'b', 'c', 'a')\n",
      "('d', 'c', 'a', 'b')\n",
      "('d', 'c', 'b', 'a')\n",
      "('a', 'b')\n",
      "('a', 'c')\n",
      "('a', 'd')\n",
      "('b', 'c')\n",
      "('b', 'd')\n",
      "('c', 'd')\n"
     ]
    }
   ],
   "source": [
    "# itertools: Functions creating iterators for efficient looping\n",
    "# https://docs.python.org/3/library/itertools.html\n",
    "import itertools\n",
    "\n",
    "# combinatoric iterators:\n",
    "\n",
    "A = [\"a\",\"b\",\"c\",\"d\"]\n",
    "\n",
    "# permutations\n",
    "\n",
    "perm = itertools.permutations(A)\n",
    "for i in perm:\n",
    "    print(i)\n",
    "\n",
    "# combinations\n",
    "comb = itertools.combinations(A,2)\n",
    "for j in comb:\n",
    "    print(j)"
   ]
  },
  {
   "cell_type": "markdown",
   "metadata": {},
   "source": [
    "## matplotlib: plotting "
   ]
  },
  {
   "cell_type": "code",
   "execution_count": 12,
   "metadata": {},
   "outputs": [
    {
     "data": {
      "image/png": "[encoded data removed]",
      "text/plain": [
       "<Figure size 432x288 with 1 Axes>"
      ]
     },
     "metadata": {
      "needs_background": "light"
     },
     "output_type": "display_data"
    }
   ],
   "source": [
    "import matplotlib.pyplot as plt\n",
    "X = [1,2,3,4]\n",
    "Y = [2,6,8,10]\n",
    "plt.plot(X,Y)\n",
    "plt.ylabel('some numbers')\n",
    "plt.show()"
   ]
  },
  {
   "cell_type": "markdown",
   "metadata": {},
   "source": [
    "## scikit-learn: machine learning toolkit"
   ]
  },
  {
   "cell_type": "code",
   "execution_count": 14,
   "metadata": {},
   "outputs": [
    {
     "name": "stdout",
     "output_type": "stream",
     "text": [
      "slope is:  2.0\n",
      "intercept is:  4.0\n",
      "Correlation coefficient is:  1.0\n"
     ]
    }
   ],
   "source": [
    "import matplotlib.pyplot as plt\n",
    "from sklearn import linear_model\n",
    "\n",
    "X = linear_model.LinearRegression()\n",
    "A = [[1],[2],[3],[4],[5]]\n",
    "B = [6,8,10,12,14]\n",
    "X.fit(A, B)\n",
    "print(\"slope is: \", str(X.coef_[0]))\n",
    "print(\"intercept is: \", X.intercept_)\n",
    "print(\"Correlation coefficient is: \", X.score(A, B))"
   ]
  },
  {
   "cell_type": "markdown",
   "metadata": {},
   "source": [
    "## Numpy: ``Multidimensional`` Data Manipulation\n",
    "## Fundamental library for all scientific computing in Python\n",
    "- Numpy serves as:\n",
    "    - Replacement of Mathematica\n",
    "    - Application with Matplotlib (Plotting)\n",
    "    - Application with Pandas (data table)\n",
    "    - Application with Machine Learning (Tensor)"
   ]
  },
  {
   "cell_type": "markdown",
   "metadata": {},
   "source": [
    "## Compare to List, Numpy is ``faster``, because:\n",
    "- Numpy has a ``fixed type``. Besides the data, list needs to store size, object value, object type, etc. Numpy uses less memory and no type-checking when iterating through objects.\n",
    "- Numpy uses ``continuous memory``, making accessing data easier. In comparison, list's data scatters around in computer's memory. "
   ]
  },
  {
   "cell_type": "markdown",
   "metadata": {},
   "source": [
    "## Numpy can do anything that List does, including\n",
    "- ## Insertion\n",
    "- ## Copy\n",
    "- ## Deletion\n",
    "- ## Concatenation"
   ]
  },
  {
   "cell_type": "markdown",
   "metadata": {},
   "source": [
    "### Load in NumPy "
   ]
  },
  {
   "cell_type": "code",
   "execution_count": 15,
   "metadata": {},
   "outputs": [],
   "source": [
    "import numpy as np"
   ]
  },
  {
   "cell_type": "code",
   "execution_count": 16,
   "metadata": {
    "scrolled": true
   },
   "outputs": [
    {
     "name": "stdout",
     "output_type": "stream",
     "text": [
      "[1, 2, 3]\n",
      "[1 2 3]\n"
     ]
    }
   ],
   "source": [
    "# Definition\n",
    "L = [1,2,3]\n",
    "L_np = np.array([1,2,3])\n",
    "print(L)\n",
    "print(L_np)"
   ]
  },
  {
   "cell_type": "code",
   "execution_count": 18,
   "metadata": {},
   "outputs": [
    {
     "name": "stdout",
     "output_type": "stream",
     "text": [
      "List has: [1, 2, 4, 3]\n",
      "Numpy array has: [1 2 4 3]\n"
     ]
    }
   ],
   "source": [
    "# Insertion\n",
    "L = [1,2,3]\n",
    "L.insert(2,4)\n",
    "print(\"List has:\", L)\n",
    "# \n",
    "L_np = np.array([1,2,3])\n",
    "L_np = np.insert(L_np, 2, 4) \n",
    "print(\"Numpy array has:\", L_np)"
   ]
  },
  {
   "cell_type": "code",
   "execution_count": 49,
   "metadata": {},
   "outputs": [
    {
     "name": "stdout",
     "output_type": "stream",
     "text": [
      "Before any modification\n",
      "List L:  [1, 2, 3]\n",
      "List L1_copy:  [1, 2, 3]\n",
      "List L1:  [1, 2, 3]\n",
      "After the insertion\n",
      "List L:  [1, 2, 4, 3]\n",
      "List L1_copy:  [1, 2, 3]\n",
      "List L1:  [1, 2, 4, 3]\n"
     ]
    }
   ],
   "source": [
    "# Copy\n",
    "L = [1,2,3]\n",
    "L1_copy = L.copy()\n",
    "L1 = L\n",
    "print(\"Before any modification\")\n",
    "print(\"List L: \", L)\n",
    "print(\"List L1_copy: \", L1_copy)\n",
    "print(\"List L1: \", L1)\n",
    "\n",
    "L.insert(2,4)\n",
    "print(\"After the insertion\")\n",
    "print(\"List L: \", L)\n",
    "print(\"List L1_copy: \", L1_copy)\n",
    "print(\"List L1: \", L1)\n",
    "\n",
    "# Question: What about Numpy Array?"
   ]
  },
  {
   "cell_type": "code",
   "execution_count": 15,
   "metadata": {},
   "outputs": [
    {
     "name": "stdout",
     "output_type": "stream",
     "text": [
      "The new list is: [2, 3]\n",
      "The new numpy array is: [2 3]\n"
     ]
    }
   ],
   "source": [
    "# Deletion\n",
    "L = [1,2,3]\n",
    "L.remove(L[0])\n",
    "print(\"The new list is:\", L)\n",
    "L_np = np.array([1,2,3])\n",
    "L_np = np.delete(L_np, 0)\n",
    "print(\"The new numpy array is:\", L_np)"
   ]
  },
  {
   "cell_type": "code",
   "execution_count": 16,
   "metadata": {},
   "outputs": [
    {
     "name": "stdout",
     "output_type": "stream",
     "text": [
      "The new list is: [1, 2, 3, 4, 5, 6]\n",
      "The numpy array is: [1 2 3 4 5 6]\n"
     ]
    }
   ],
   "source": [
    "# Concatenation\n",
    "L1 = [1,2,3]\n",
    "L2 = [4,5,6]\n",
    "L_comb = L1 + L2\n",
    "print(\"The new list is:\", L_comb)\n",
    "L1_np = np.array([1,2,3])\n",
    "L2_np = np.array([4,5,6])\n",
    "L_comb_np = np.concatenate((L1_np, L2_np), axis = 0)\n",
    "print(\"The numpy array is:\", L_comb_np)"
   ]
  },
  {
   "cell_type": "markdown",
   "metadata": {},
   "source": [
    "## Numpy can do more than what List can do\n",
    "### Mathmatical operations"
   ]
  },
  {
   "cell_type": "code",
   "execution_count": 19,
   "metadata": {
    "scrolled": true
   },
   "outputs": [
    {
     "ename": "TypeError",
     "evalue": "can't multiply sequence by non-int of type 'list'",
     "output_type": "error",
     "traceback": [
      "\u001b[0;31m---------------------------------------------------------------------------\u001b[0m",
      "\u001b[0;31mTypeError\u001b[0m                                 Traceback (most recent call last)",
      "\u001b[0;32m<ipython-input-19-c7d677782037>\u001b[0m in \u001b[0;36m<module>\u001b[0;34m\u001b[0m\n\u001b[1;32m      2\u001b[0m \u001b[0mL1\u001b[0m \u001b[0;34m=\u001b[0m \u001b[0;34m[\u001b[0m\u001b[0;36m1\u001b[0m\u001b[0;34m,\u001b[0m\u001b[0;36m2\u001b[0m\u001b[0;34m,\u001b[0m\u001b[0;36m3\u001b[0m\u001b[0;34m]\u001b[0m\u001b[0;34m\u001b[0m\u001b[0;34m\u001b[0m\u001b[0m\n\u001b[1;32m      3\u001b[0m \u001b[0mL2\u001b[0m \u001b[0;34m=\u001b[0m \u001b[0;34m[\u001b[0m\u001b[0;36m4\u001b[0m\u001b[0;34m,\u001b[0m\u001b[0;36m5\u001b[0m\u001b[0;34m,\u001b[0m\u001b[0;36m6\u001b[0m\u001b[0;34m]\u001b[0m\u001b[0;34m\u001b[0m\u001b[0;34m\u001b[0m\u001b[0m\n\u001b[0;32m----> 4\u001b[0;31m \u001b[0mL_multiplication\u001b[0m \u001b[0;34m=\u001b[0m \u001b[0mL1\u001b[0m\u001b[0;34m*\u001b[0m\u001b[0mL2\u001b[0m\u001b[0;34m\u001b[0m\u001b[0;34m\u001b[0m\u001b[0m\n\u001b[0m",
      "\u001b[0;31mTypeError\u001b[0m: can't multiply sequence by non-int of type 'list'"
     ]
    }
   ],
   "source": [
    "# List can not time individual element together\n",
    "L1 = [1,2,3]\n",
    "L2 = [4,5,6]\n",
    "L_multiplication = L1*L2"
   ]
  },
  {
   "cell_type": "code",
   "execution_count": 21,
   "metadata": {
    "scrolled": true
   },
   "outputs": [
    {
     "name": "stdout",
     "output_type": "stream",
     "text": [
      "Multiplication [ 4 10 18]\n",
      "Addition [5 7 9]\n"
     ]
    }
   ],
   "source": [
    "# Numpy allows you perform arithmetic operations on individual element\n",
    "L1_np = np.array([1,2,3])\n",
    "L2_np = np.array([4,5,6])\n",
    "print(\"Multiplication\", L1_np * L2_np)\n",
    "print(\"Addition\", L1_np + L2_np)"
   ]
  },
  {
   "cell_type": "markdown",
   "metadata": {},
   "source": [
    "## Basic Functions"
   ]
  },
  {
   "cell_type": "code",
   "execution_count": 60,
   "metadata": {},
   "outputs": [
    {
     "name": "stdout",
     "output_type": "stream",
     "text": [
      "Dimension of the array a: 1\n",
      "Shape for the array a: (3,)\n",
      "Dimension of the array b: 2\n",
      "Shape for the array a: (2, 3)\n"
     ]
    }
   ],
   "source": [
    "# Get Dimension and shape\n",
    "a = np.array([1,2,3])\n",
    "print(\"Dimension of the array a:\", a.ndim)\n",
    "print(\"Shape for the array a:\", a.shape)\n",
    "\n",
    "b = np.array([[1,2,3],[4,5,6]])\n",
    "print(\"Dimension of the array b:\", b.ndim)\n",
    "print(\"Shape for the array a:\", b.shape)"
   ]
  },
  {
   "cell_type": "code",
   "execution_count": 62,
   "metadata": {},
   "outputs": [
    {
     "name": "stdout",
     "output_type": "stream",
     "text": [
      "[0 1 2 3 4 5 6 7 8 9]\n"
     ]
    }
   ],
   "source": [
    "# Create an array of integers\n",
    "\n",
    "L1 = np.arange(10)\n",
    "print(L1)\n",
    "\n",
    "# Question: How do you create a list of integers \n",
    "# that range from 0 to 9?"
   ]
  },
  {
   "cell_type": "markdown",
   "metadata": {},
   "source": [
    "## Accessing specific elements, rows, columns-1:\n",
    "## Figure out the dimensionality"
   ]
  },
  {
   "cell_type": "code",
   "execution_count": 63,
   "metadata": {
    "scrolled": false
   },
   "outputs": [
    {
     "name": "stdout",
     "output_type": "stream",
     "text": [
      "[[ 1  2  3  4  5  6  7]\n",
      " [ 8  9 10 11 12 13 14]]\n",
      "2\n",
      "(2, 7)\n"
     ]
    }
   ],
   "source": [
    "# Define an array\n",
    "a = np.array([[1,2,3,4,5,6,7],[8,9,10,11,12,13,14]])\n",
    "print(a)\n",
    "print(a.ndim)\n",
    "print(a.shape)"
   ]
  },
  {
   "cell_type": "code",
   "execution_count": 24,
   "metadata": {},
   "outputs": [
    {
     "name": "stdout",
     "output_type": "stream",
     "text": [
      "13\n",
      "[1 2 3 4 5 6 7]\n",
      "[1 8]\n"
     ]
    }
   ],
   "source": [
    "# Get a specific element [r, c], in which r: row and c: column.\n",
    "print(a[1, 5])\n",
    "# Get a specific row \n",
    "print(a[0, :])\n",
    "# Get a specific column\n",
    "print(a[:, 0])"
   ]
  },
  {
   "cell_type": "code",
   "execution_count": 65,
   "metadata": {
    "scrolled": true
   },
   "outputs": [
    {
     "name": "stdout",
     "output_type": "stream",
     "text": [
      "3\n",
      "(2, 2, 2)\n",
      "4\n"
     ]
    }
   ],
   "source": [
    "# Now, let's try dealing with arrays with even higher dimensions!\n",
    "b = np.array([[[1,2],[3,4]],[[5,6],[7,8]]])\n",
    "print(b.ndim)\n",
    "print(b.shape)\n",
    "\n",
    "# Let's see the output for:\n",
    "print(b[0,1,1])"
   ]
  },
  {
   "cell_type": "code",
   "execution_count": 66,
   "metadata": {
    "scrolled": true
   },
   "outputs": [
    {
     "name": "stdout",
     "output_type": "stream",
     "text": [
      "First array\n",
      "[[[1 2]\n",
      "  [3 4]]\n",
      "\n",
      " [[5 6]\n",
      "  [7 8]]]\n",
      "Array variant-1\n",
      "[[[ 1  2]\n",
      "  [10 10]]\n",
      "\n",
      " [[ 5  6]\n",
      "  [ 7  8]]]\n",
      "Array variant-2\n",
      "[[[ 1 10]\n",
      "  [ 3 10]]\n",
      "\n",
      " [[ 5  6]\n",
      "  [ 7  8]]]\n"
     ]
    }
   ],
   "source": [
    "print(\"First array\")\n",
    "b = np.array([[[1,2],[3,4]],[[5,6],[7,8]]])\n",
    "print(b)\n",
    "\n",
    "# replacement-1: Now I want to change [3, 4] by [10,10]\n",
    "b = np.array([[[1,2],[3,4]],[[5,6],[7,8]]])\n",
    "b[0,1,:] = [10,10]\n",
    "print(\"Array variant-1\")\n",
    "print(b)\n",
    "\n",
    "# repalcement-2: change [2, 4] by 10 10\n",
    "b = np.array([[[1,2],[3,4]],[[5,6],[7,8]]])\n",
    "b[0,:,1] = [10,10]\n",
    "print(\"Array variant-2\")\n",
    "print(b)"
   ]
  },
  {
   "cell_type": "markdown",
   "metadata": {},
   "source": [
    "### Individual assignment: define an array b = np.array([[[1,2],[3,4]],[[5,6],[7,8]]])\n",
    "### Q-1: replace 5 7 by 10 10 "
   ]
  },
  {
   "cell_type": "code",
   "execution_count": 42,
   "metadata": {
    "scrolled": true
   },
   "outputs": [
    {
     "name": "stdout",
     "output_type": "stream",
     "text": [
      "New array-1\n",
      "[[[ 1  2]\n",
      "  [ 3  4]]\n",
      "\n",
      " [[10  6]\n",
      "  [10  8]]]\n"
     ]
    }
   ],
   "source": [
    "b = np.array([[[1,2],[3,4]],[[5,6],[7,8]]])\n",
    "# Your code goes here:\n",
    "\n",
    "print(\"New array-1\")\n",
    "print(b)"
   ]
  },
  {
   "cell_type": "markdown",
   "metadata": {},
   "source": [
    "### Q-2: replace 1 3 by 10 10 "
   ]
  },
  {
   "cell_type": "code",
   "execution_count": 43,
   "metadata": {
    "scrolled": false
   },
   "outputs": [
    {
     "name": "stdout",
     "output_type": "stream",
     "text": [
      "New array-2\n",
      "[[[10  2]\n",
      "  [10  4]]\n",
      "\n",
      " [[ 5  6]\n",
      "  [ 7  8]]]\n"
     ]
    }
   ],
   "source": [
    "b = np.array([[[1,2],[3,4]],[[5,6],[7,8]]])\n",
    "# Your code goes here:\n",
    "\n",
    "print(\"New array-2\")\n",
    "print(b)"
   ]
  },
  {
   "cell_type": "markdown",
   "metadata": {},
   "source": [
    "## Accessing specific elements, rows, columns-2:\n",
    "## Use logical operation"
   ]
  },
  {
   "cell_type": "code",
   "execution_count": 69,
   "metadata": {},
   "outputs": [
    {
     "name": "stdout",
     "output_type": "stream",
     "text": [
      "[False  True False  True False  True False  True False  True False]\n",
      "The sliced numpy array is: [1 3 5 7 9]\n",
      "[1 3 5 7 9]\n"
     ]
    }
   ],
   "source": [
    "# Using array:\n",
    "a = np.array([0, 1, 2, 3, 4, 5, 6, 7, 8, 9, 10])\n",
    "t = (a % 2 == 1)\n",
    "print(t)\n",
    "print(\"The sliced numpy array is:\", a[t])\n",
    "\n",
    "# The entire operation can be expressed using one line of code:\n",
    "print(a[ a%2 == 1 ])\n",
    "\n",
    "# Question: How to achieve the same goal by using List comprehension?"
   ]
  },
  {
   "cell_type": "markdown",
   "metadata": {},
   "source": [
    "### Individual assignment: Extract the even numbers from the following numpy array arr = np.array([0, 2, 3, 4, 5, 6, 8, 9, 13, 19])"
   ]
  },
  {
   "cell_type": "code",
   "execution_count": 76,
   "metadata": {},
   "outputs": [
    {
     "name": "stdout",
     "output_type": "stream",
     "text": [
      "[ 0  2  4  6  8 20]\n"
     ]
    }
   ],
   "source": [
    "arr = np.array([0, 2, 3, 4, 5, 6, 8, 9, 13, 20])\n",
    "# Your code goes here:\n"
   ]
  },
  {
   "cell_type": "markdown",
   "metadata": {},
   "source": [
    "### Individual assignment: following is the given numpy array return array of odd rows and even columns A = numpy.array([[3 ,6, 9, 12], [15 ,18, 21, 24], \n",
    "### [27 ,30, 33, 36], [39 ,42, 45, 48], [51 ,54, 57, 60]])\n",
    "### ``Q1``: Printing array of the third row?\n",
    "### [27 30 33 36]\n",
    "### ``Q2``: Printing array of the last column?\n",
    "### [12 24 36 48 60]\n",
    "### ``Q3``: Printing the odd numbers of the array?\n",
    "### [ 3  9 15 21 27 33 39 45 51 57]\n"
   ]
  },
  {
   "cell_type": "code",
   "execution_count": 83,
   "metadata": {},
   "outputs": [
    {
     "name": "stdout",
     "output_type": "stream",
     "text": [
      "[27 30 33 36]\n",
      "[12 24 36 48 60]\n",
      "[ 3  9 15 21 27 33 39 45 51 57]\n"
     ]
    }
   ],
   "source": [
    "import numpy as np\n",
    "A = np.array([[3 ,6, 9, 12], [15 ,18, 21, 24],[27 ,30, 33, 36], [39 ,42, 45, 48], [51 ,54, 57, 60]])\n",
    "# Your code for Q1\n",
    "\n",
    "# Your code for Q2\n",
    "\n",
    "# Your code for Q3\n",
    "\n"
   ]
  }
 ],
 "metadata": {
  "kernelspec": {
   "display_name": "Python 3",
   "language": "python",
   "name": "python3"
  },
  "language_info": {
   "codemirror_mode": {
    "name": "ipython",
    "version": 3
   },
   "file_extension": ".py",
   "mimetype": "text/x-python",
   "name": "python",
   "nbconvert_exporter": "python",
   "pygments_lexer": "ipython3",
   "version": "3.8.8"
  }
 },
 "nbformat": 4,
 "nbformat_minor": 4
}
