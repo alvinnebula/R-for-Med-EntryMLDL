{
 "cells": [
  {
   "cell_type": "markdown",
   "metadata": {},
   "source": [
    "# Control Flow (makes your program smarter!)\n",
    "# Control Flow-1: Conditional Statements if-elif-else"
   ]
  },
  {
   "cell_type": "code",
   "execution_count": 2,
   "metadata": {},
   "outputs": [
    {
     "name": "stdout",
     "output_type": "stream",
     "text": [
      "You are a student\n"
     ]
    }
   ],
   "source": [
    "# A very simple case\n",
    "\n",
    "is_student = True # bool type variable \n",
    "if is_student:\n",
    "    print(\"You are a student\")\n",
    "else:\n",
    "    print(\"You are not a student\")"
   ]
  },
  {
   "cell_type": "code",
   "execution_count": 4,
   "metadata": {},
   "outputs": [
    {
     "name": "stdout",
     "output_type": "stream",
     "text": [
      "You are living on campus\n"
     ]
    }
   ],
   "source": [
    "# Combination of cases\n",
    "\n",
    "is_student = False\n",
    "is_living_oncampus = True \n",
    "\n",
    "if is_student and is_living_oncampus:\n",
    "    print(\"You are a student living on campus\")\n",
    "elif is_student:\n",
    "    print(\"You are a student\")\n",
    "elif is_living_oncampus:\n",
    "    print(\"You are living on campus\")\n",
    "else:\n",
    "    print(\"You are neither a student nor living on campus\")"
   ]
  },
  {
   "cell_type": "code",
   "execution_count": 9,
   "metadata": {},
   "outputs": [
    {
     "name": "stdout",
     "output_type": "stream",
     "text": [
      "Are you a student? yes/no yes\n",
      "Are you living on campus? yes/no no\n",
      "You are a student, but not living on campus\n"
     ]
    }
   ],
   "source": [
    "# Let's make the code a bit more interactive!\n",
    "\n",
    "is_student = None\n",
    "is_living_oncampus = None\n",
    "\n",
    "A = input(\"Are you a student? yes/no \")\n",
    "\n",
    "if A == 'yes': \n",
    "    is_student = True\n",
    "elif A == 'no': \n",
    "    is_student = False\n",
    "else: \n",
    "    print('You have typed in something wrong! Exit and retype!') \n",
    "    #import sys \n",
    "    #sys.exit('You have typed in something wrong! Exit and retype!')\n",
    "    \n",
    "B = input(\"Are you living on campus? yes/no \")\n",
    "\n",
    "if B == 'yes': \n",
    "    is_living_oncampus = True\n",
    "elif B == 'no': \n",
    "    is_living_oncampus = False\n",
    "else: \n",
    "    print(\"You have typed in something wrong!\")\n",
    "\n",
    "if is_student and is_living_oncampus:\n",
    "    print(\"You are a student living on campus!\")\n",
    "elif is_student and not is_living_oncampus:\n",
    "    print(\"You are a student, but not living on campus\")\n",
    "elif not is_student and is_living_oncampus:\n",
    "    print(\"You are not a student, but living on campus\")\n",
    "else:\n",
    "    print(\"You are neither a student nor living on campus!\")"
   ]
  },
  {
   "cell_type": "markdown",
   "metadata": {},
   "source": [
    "## Individual task-1: write a prece of code to compare three integers, and find out the largest among the three input values"
   ]
  },
  {
   "cell_type": "code",
   "execution_count": 12,
   "metadata": {},
   "outputs": [
    {
     "name": "stdout",
     "output_type": "stream",
     "text": [
      "Give me the first number. \n",
      "3\n",
      "Give me the second number. \n",
      "3\n",
      "Give me the third number. \n",
      "3\n",
      "3 is the largest number!!\n"
     ]
    }
   ],
   "source": [
    "A = int(input(\"Give me the first number. \\n\")) #\\n is for changing to a new line\n",
    "B = int(input(\"Give me the second number. \\n\")) #\\n is for changing to a new line\n",
    "C = int(input(\"Give me the third number. \\n\")) #\\n is for changing to a new line\n",
    "\n",
    "# complete this piece of code chunk\n",
    "\n",
    "if A >= B and A >= C: \n",
    "    print(str(A)+\" is the largest number!!\")\n",
    "elif B >= C: \n",
    "    print(str(B)+\" is the largest number!!\")\n",
    "else: \n",
    "    print(str(C)+\" is the largest number!!\")"
   ]
  },
  {
   "cell_type": "markdown",
   "metadata": {},
   "source": [
    "## (Optional) Individual task-2: write a prece of code to compare three integers, and find out the smallest among the three"
   ]
  },
  {
   "cell_type": "code",
   "execution_count": 13,
   "metadata": {},
   "outputs": [
    {
     "name": "stdout",
     "output_type": "stream",
     "text": [
      "Give me the first number. \n",
      "20\n",
      "Give me the second number. \n",
      "13\n",
      "Give me the third number. \n",
      "244\n",
      "13 is the smallest number!!\n"
     ]
    }
   ],
   "source": [
    "A = int(input(\"Give me the first number. \\n\")) #\\n is for changing to a new line\n",
    "B = int(input(\"Give me the second number. \\n\")) #\\n is for changing to a new line\n",
    "C = int(input(\"Give me the third number. \\n\")) #\\n is for changing to a new line\n",
    "if A <= B and A <= C: \n",
    "    print(str(A)+\" is the smallest number!!\")\n",
    "elif B <= C: \n",
    "    print(str(B)+\" is the smallest number!!\")\n",
    "else: \n",
    "    print(str(C)+\" is the smallest number!!\")"
   ]
  },
  {
   "cell_type": "markdown",
   "metadata": {},
   "source": [
    "# Control Flow-2: Conditional Statements ``for`` loops and ``while`` loops"
   ]
  },
  {
   "cell_type": "markdown",
   "metadata": {},
   "source": [
    "# ``for`` loops: when you know exactly the range for a list of things "
   ]
  },
  {
   "cell_type": "code",
   "execution_count": 14,
   "metadata": {
    "scrolled": true
   },
   "outputs": [
    {
     "name": "stdout",
     "output_type": "stream",
     "text": [
      "[10, 9, 8, 7, 6]\n",
      "10\n",
      "<class 'int'>\n",
      "9\n",
      "<class 'int'>\n",
      "8\n",
      "<class 'int'>\n",
      "7\n",
      "<class 'int'>\n",
      "6\n",
      "<class 'int'>\n"
     ]
    }
   ],
   "source": [
    "# Define a list and print each element individually\n",
    "L = [10, 9, 8, 7, 6]\n",
    "print(L)\n",
    "for i in L:\n",
    "    print(i)\n",
    "    print(type(i))"
   ]
  },
  {
   "cell_type": "markdown",
   "metadata": {},
   "source": [
    "## range(): a built-in function to iterate integers\n",
    "- ## range(n)  will generate integers from ``0`` to ``(n-1)``\n",
    "- ## range(m,n) will generate integers from ``m`` to ``(n-1)``\n",
    "- ## range(m,n,step_size) will generate integers from ``m`` to ``n-1`` with ``step_size`` as incremental factor in each iteration. The default step_size is 1 if not explicitly mentioned."
   ]
  },
  {
   "cell_type": "code",
   "execution_count": 15,
   "metadata": {
    "scrolled": true
   },
   "outputs": [
    {
     "name": "stdout",
     "output_type": "stream",
     "text": [
      "[0, 1, 2, 3, 4, 5, 6, 7, 8, 9]\n"
     ]
    }
   ],
   "source": [
    "# range(n)\n",
    "L = [] \n",
    "n = 10\n",
    "for i in range(n):\n",
    "    L.append(i)\n",
    "print(L)"
   ]
  },
  {
   "cell_type": "code",
   "execution_count": 16,
   "metadata": {},
   "outputs": [
    {
     "name": "stdout",
     "output_type": "stream",
     "text": [
      "[5, 6, 7, 8, 9]\n"
     ]
    }
   ],
   "source": [
    "# range(m, n)\n",
    "L = [] \n",
    "m = 5\n",
    "n = 10\n",
    "for i in range(m,n):\n",
    "    L.append(i)\n",
    "print(L)"
   ]
  },
  {
   "cell_type": "code",
   "execution_count": 17,
   "metadata": {},
   "outputs": [
    {
     "name": "stdout",
     "output_type": "stream",
     "text": [
      "[5, 7, 9]\n"
     ]
    }
   ],
   "source": [
    "# range(m, n, stepsize)\n",
    "L = [] \n",
    "m = 5\n",
    "n = 10\n",
    "stepsize = 2\n",
    "for i in range(m, n, stepsize):\n",
    "    L.append(i)\n",
    "print(L)"
   ]
  },
  {
   "cell_type": "code",
   "execution_count": 18,
   "metadata": {},
   "outputs": [
    {
     "name": "stdout",
     "output_type": "stream",
     "text": [
      "[5, 7, 9]\n"
     ]
    }
   ],
   "source": [
    "# range(m, n, stepsize)\n",
    "L = [] \n",
    "m = 5\n",
    "n = 10\n",
    "stepsize = 2\n",
    "for i in range(m, n, stepsize):\n",
    "    L.append(i)\n",
    "print(L)\n",
    "    "
   ]
  },
  {
   "cell_type": "markdown",
   "metadata": {},
   "source": [
    "## enumerate() function help you get both the variables and the indexes of elements in the list"
   ]
  },
  {
   "cell_type": "code",
   "execution_count": 20,
   "metadata": {},
   "outputs": [
    {
     "name": "stdout",
     "output_type": "stream",
     "text": [
      "(0, 10)\n",
      "(1, 9)\n",
      "(2, 8)\n",
      "(3, 7)\n",
      "(4, 6)\n",
      "Index: 0 Value:10\n",
      "Index: 1 Value:9\n",
      "Index: 2 Value:8\n",
      "Index: 3 Value:7\n",
      "Index: 4 Value:6\n"
     ]
    }
   ],
   "source": [
    "L = [10, 9, 8, 7, 6]\n",
    "for i in enumerate(L):\n",
    "    print(i)\n",
    "for i,j in enumerate(L):\n",
    "    print(\"Index: \"+str(i)+\" Value:\"+str(j))"
   ]
  },
  {
   "cell_type": "markdown",
   "metadata": {},
   "source": [
    "## List comprehension: newList = [ expression for element in oldList if condition ] "
   ]
  },
  {
   "cell_type": "code",
   "execution_count": 21,
   "metadata": {},
   "outputs": [
    {
     "name": "stdout",
     "output_type": "stream",
     "text": [
      "[1, 3, 5, 7, 9]\n"
     ]
    }
   ],
   "source": [
    "numbers = [1,2,3,4,5,6,7,8,9,10]\n",
    "\n",
    "odd = [x for x in numbers if x%2 != 0]\n",
    "\n",
    "print(odd)"
   ]
  },
  {
   "cell_type": "markdown",
   "metadata": {},
   "source": [
    "## Build a Game: Lucky number!\n",
    "## Individual assignment: Complete the following code\n",
    "## Section-1. First build a list to store 50 random integers ranging from 0 to 100. \n",
    "## <br> Hint: loop\n",
    "## Section-2. Input an integer and check if the input string contains numberics only. \n",
    "## <br> Hint: if condition + isnumeric()\n",
    "## Section-3. Check to see if the input integer is a member of the list of random numbers. "
   ]
  },
  {
   "cell_type": "code",
   "execution_count": 27,
   "metadata": {},
   "outputs": [
    {
     "name": "stdout",
     "output_type": "stream",
     "text": [
      "A is a list containing 50 random numbers between 0 and 99\n",
      "[[30, 93, 98, 7, 54, 30, 49, 84, 14, 100, 96, 26, 52, 35, 56, 5, 11, 1, 99, 74, 43, 21, 13, 60, 74, 13, 67, 4, 17, 38, 13, 29, 94, 6, 16, 70, 24, 32, 72, 90, 32, 27, 98, 48, 3, 33, 96, 93, 78, 5]]\n",
      "Pure guess – give me an integer between 0 and 99! \n",
      "14\n",
      "14is a valid integer! Let's see if it's inside the list. \n",
      "\n",
      "<class 'str'>\n",
      "Good guess!\n"
     ]
    }
   ],
   "source": [
    "import random\n",
    "A = []\n",
    "Num = 50\n",
    "for i in range(Num):\n",
    "    n = random.randint(0,100)\n",
    "    A.append(n)\n",
    "if len(A) >= 0: \n",
    "    print(\"A is a list containing \" + str(Num) + \" random numbers between 0 and 99\")\n",
    "else:\n",
    "    print(\"A contains no elements\")\n",
    "\n",
    "print([A])\n",
    "    \n",
    "B = input(\"Pure guess – give me an integer between 0 and 99! \\n\")\n",
    "\n",
    "if B.isnumeric():\n",
    "    print(str(B)+ \"is a valid integer! Let's see if it's inside the list. \\n\")\n",
    "else:\n",
    "    print(str(B)+ \"is not a invalid integer! \\n\")\n",
    "\n",
    "print(type(B))\n",
    "    \n",
    "    \n",
    "#Section-3 Hint: if-else\n",
    "if int(B) in A: \n",
    "    print(\"Good guess!\")\n",
    "else: \n",
    "    print(\"Bad guess!\")"
   ]
  },
  {
   "cell_type": "markdown",
   "metadata": {},
   "source": [
    "# ``while`` loops: good when you know what the termination criteria is."
   ]
  },
  {
   "cell_type": "code",
   "execution_count": null,
   "metadata": {},
   "outputs": [],
   "source": [
    "i = 0\n",
    "while i < 10.1:\n",
    "    print(i)\n",
    "    i = i + 0.3 "
   ]
  },
  {
   "cell_type": "code",
   "execution_count": null,
   "metadata": {},
   "outputs": [],
   "source": [
    "L = [2, 5, 6, 7]\n",
    "i = 0\n",
    "while i < len(L):\n",
    "    print(L[i])\n",
    "    i = i + 1"
   ]
  },
  {
   "cell_type": "markdown",
   "metadata": {},
   "source": [
    "# ``continue`` and ``break`` "
   ]
  },
  {
   "cell_type": "code",
   "execution_count": null,
   "metadata": {},
   "outputs": [],
   "source": [
    "for val in \"break\":\n",
    "    if val == \"r\":\n",
    "        continue\n",
    "    print(val, end = ' ')"
   ]
  },
  {
   "cell_type": "code",
   "execution_count": null,
   "metadata": {},
   "outputs": [],
   "source": [
    "for val in \"break\":\n",
    "    if val == \"r\":\n",
    "        break\n",
    "    print(val, end = ' ')"
   ]
  },
  {
   "cell_type": "markdown",
   "metadata": {},
   "source": []
  },
  {
   "cell_type": "code",
   "execution_count": null,
   "metadata": {},
   "outputs": [],
   "source": [
    "for val in \"break\":\n",
    "    if val == \"r\":\n",
    "        continue\n",
    "    elif val == \"a\":\n",
    "        break\n",
    "    else:\n",
    "        print(val, end = ' ')"
   ]
  },
  {
   "cell_type": "code",
   "execution_count": null,
   "metadata": {},
   "outputs": [],
   "source": []
  }
 ],
 "metadata": {
  "kernelspec": {
   "display_name": "Python 3",
   "language": "python",
   "name": "python3"
  },
  "language_info": {
   "codemirror_mode": {
    "name": "ipython",
    "version": 3
   },
   "file_extension": ".py",
   "mimetype": "text/x-python",
   "name": "python",
   "nbconvert_exporter": "python",
   "pygments_lexer": "ipython3",
   "version": "3.8.8"
  }
 },
 "nbformat": 4,
 "nbformat_minor": 4
}
